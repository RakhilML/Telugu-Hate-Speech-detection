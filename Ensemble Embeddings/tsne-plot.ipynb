{
 "cells": [
  {
   "cell_type": "markdown",
   "metadata": {},
   "source": [
    "### LaBSE + muril"
   ]
  },
  {
   "cell_type": "markdown",
   "metadata": {},
   "source": [
    "original"
   ]
  },
  {
   "cell_type": "code",
   "execution_count": 1,
   "metadata": {
    "execution": {
     "iopub.execute_input": "2024-05-24T17:08:33.127804Z",
     "iopub.status.busy": "2024-05-24T17:08:33.127445Z",
     "iopub.status.idle": "2024-05-24T17:46:37.767439Z",
     "shell.execute_reply": "2024-05-24T17:46:37.766307Z",
     "shell.execute_reply.started": "2024-05-24T17:08:33.127778Z"
    },
    "trusted": true
   },
   "outputs": [
    {
     "data": {
      "application/vnd.jupyter.widget-view+json": {
       "model_id": "cf8e8087dbe74a4e82d64523ea815d5a",
       "version_major": 2,
       "version_minor": 0
      },
      "text/plain": [
       "tokenizer_config.json:   0%|          | 0.00/397 [00:00<?, ?B/s]"
      ]
     },
     "metadata": {},
     "output_type": "display_data"
    },
    {
     "data": {
      "application/vnd.jupyter.widget-view+json": {
       "model_id": "f5322428ae7742a59bf2b1673b8c530d",
       "version_major": 2,
       "version_minor": 0
      },
      "text/plain": [
       "config.json:   0%|          | 0.00/804 [00:00<?, ?B/s]"
      ]
     },
     "metadata": {},
     "output_type": "display_data"
    },
    {
     "data": {
      "application/vnd.jupyter.widget-view+json": {
       "model_id": "1846b3082d3144e88d4c2ad9b9fadb20",
       "version_major": 2,
       "version_minor": 0
      },
      "text/plain": [
       "vocab.txt:   0%|          | 0.00/5.22M [00:00<?, ?B/s]"
      ]
     },
     "metadata": {},
     "output_type": "display_data"
    },
    {
     "data": {
      "application/vnd.jupyter.widget-view+json": {
       "model_id": "6b52078d288c4fd88a3f6b58658f9825",
       "version_major": 2,
       "version_minor": 0
      },
      "text/plain": [
       "tokenizer.json:   0%|          | 0.00/9.62M [00:00<?, ?B/s]"
      ]
     },
     "metadata": {},
     "output_type": "display_data"
    },
    {
     "data": {
      "application/vnd.jupyter.widget-view+json": {
       "model_id": "53f39f48b9e04e058a81c35ebe4a0947",
       "version_major": 2,
       "version_minor": 0
      },
      "text/plain": [
       "special_tokens_map.json:   0%|          | 0.00/112 [00:00<?, ?B/s]"
      ]
     },
     "metadata": {},
     "output_type": "display_data"
    },
    {
     "data": {
      "application/vnd.jupyter.widget-view+json": {
       "model_id": "280b7a1059f844dfb94e5e435660cd32",
       "version_major": 2,
       "version_minor": 0
      },
      "text/plain": [
       "model.safetensors:   0%|          | 0.00/1.88G [00:00<?, ?B/s]"
      ]
     },
     "metadata": {},
     "output_type": "display_data"
    },
    {
     "name": "stderr",
     "output_type": "stream",
     "text": [
      "Some weights of BertForSequenceClassification were not initialized from the model checkpoint at sentence-transformers/LaBSE and are newly initialized: ['classifier.bias', 'classifier.weight']\n",
      "You should probably TRAIN this model on a down-stream task to be able to use it for predictions and inference.\n"
     ]
    },
    {
     "data": {
      "application/vnd.jupyter.widget-view+json": {
       "model_id": "2bd40694381645819a081af30481cb98",
       "version_major": 2,
       "version_minor": 0
      },
      "text/plain": [
       "tokenizer_config.json:   0%|          | 0.00/206 [00:00<?, ?B/s]"
      ]
     },
     "metadata": {},
     "output_type": "display_data"
    },
    {
     "data": {
      "application/vnd.jupyter.widget-view+json": {
       "model_id": "9b0b21fdbf6b49c797e24d6ad26029e0",
       "version_major": 2,
       "version_minor": 0
      },
      "text/plain": [
       "config.json:   0%|          | 0.00/411 [00:00<?, ?B/s]"
      ]
     },
     "metadata": {},
     "output_type": "display_data"
    },
    {
     "data": {
      "application/vnd.jupyter.widget-view+json": {
       "model_id": "e9fc273e9ca94cd49489b9e9fe4da305",
       "version_major": 2,
       "version_minor": 0
      },
      "text/plain": [
       "vocab.txt:   0%|          | 0.00/3.16M [00:00<?, ?B/s]"
      ]
     },
     "metadata": {},
     "output_type": "display_data"
    },
    {
     "data": {
      "application/vnd.jupyter.widget-view+json": {
       "model_id": "507176716a274288919fa08c0004bdde",
       "version_major": 2,
       "version_minor": 0
      },
      "text/plain": [
       "special_tokens_map.json:   0%|          | 0.00/113 [00:00<?, ?B/s]"
      ]
     },
     "metadata": {},
     "output_type": "display_data"
    },
    {
     "data": {
      "application/vnd.jupyter.widget-view+json": {
       "model_id": "8001abb6241344c390c3aa5157772713",
       "version_major": 2,
       "version_minor": 0
      },
      "text/plain": [
       "pytorch_model.bin:   0%|          | 0.00/953M [00:00<?, ?B/s]"
      ]
     },
     "metadata": {},
     "output_type": "display_data"
    },
    {
     "name": "stderr",
     "output_type": "stream",
     "text": [
      "/opt/conda/lib/python3.10/site-packages/torch/_utils.py:831: UserWarning: TypedStorage is deprecated. It will be removed in the future and UntypedStorage will be the only storage class. This should only matter to you if you are using storages directly.  To access UntypedStorage directly, use tensor.untyped_storage() instead of tensor.storage()\n",
      "  return self.fget.__get__(instance, owner)()\n",
      "Some weights of BertForSequenceClassification were not initialized from the model checkpoint at google/muril-base-cased and are newly initialized: ['classifier.bias', 'classifier.weight']\n",
      "You should probably TRAIN this model on a down-stream task to be able to use it for predictions and inference.\n",
      "/opt/conda/lib/python3.10/site-packages/transformers/optimization.py:457: FutureWarning: This implementation of AdamW is deprecated and will be removed in a future version. Use the PyTorch implementation torch.optim.AdamW instead, or set `no_deprecation_warning=True` to disable this warning\n",
      "  warnings.warn(\n"
     ]
    },
    {
     "name": "stdout",
     "output_type": "stream",
     "text": [
      "Epoch 1/10 (LaBSE)\n",
      "Epoch 2/10 (LaBSE)\n",
      "Epoch 3/10 (LaBSE)\n",
      "Epoch 4/10 (LaBSE)\n",
      "Epoch 5/10 (LaBSE)\n",
      "Epoch 6/10 (LaBSE)\n",
      "Epoch 7/10 (LaBSE)\n",
      "Epoch 8/10 (LaBSE)\n",
      "Epoch 9/10 (LaBSE)\n",
      "Epoch 10/10 (LaBSE)\n",
      "Epoch 1/10 (MuRIL)\n",
      "Epoch 2/10 (MuRIL)\n",
      "Epoch 3/10 (MuRIL)\n",
      "Epoch 4/10 (MuRIL)\n",
      "Epoch 5/10 (MuRIL)\n",
      "Epoch 6/10 (MuRIL)\n",
      "Epoch 7/10 (MuRIL)\n",
      "Epoch 8/10 (MuRIL)\n",
      "Epoch 9/10 (MuRIL)\n",
      "Epoch 10/10 (MuRIL)\n",
      "Accuracy: 0.77125\n",
      "Classification Report:\n",
      "              precision    recall  f1-score   support\n",
      "\n",
      "           0       0.87      0.68      0.76       430\n",
      "           1       0.70      0.88      0.78       370\n",
      "\n",
      "    accuracy                           0.77       800\n",
      "   macro avg       0.78      0.78      0.77       800\n",
      "weighted avg       0.79      0.77      0.77       800\n",
      "\n"
     ]
    }
   ],
   "source": [
    "import pandas as pd\n",
    "import torch\n",
    "from sklearn.model_selection import train_test_split\n",
    "from transformers import AutoTokenizer, AutoModelForSequenceClassification, AdamW\n",
    "from sklearn.metrics import accuracy_score, classification_report\n",
    "\n",
    "# Load your CSV file\n",
    "df = pd.read_csv(\"/kaggle/input/againrest/training_data_telugu-hate.csv\")\n",
    "\n",
    "# Mapping labels to integers\n",
    "label_map = {'hate': 1, 'non-hate': 0}\n",
    "df['Label'] = df['Label'].map(label_map)\n",
    "\n",
    "# Extract input texts and labels\n",
    "texts = df['Comments'].tolist()\n",
    "labels = df['Label'].tolist()\n",
    "\n",
    "# Split data into train and test sets\n",
    "train_texts, test_texts, train_labels, test_labels = train_test_split(texts, labels, test_size=0.2, random_state=42)\n",
    "\n",
    "# Load pre-trained LaBSE and MuRIL models and tokenizers\n",
    "labse_tokenizer = AutoTokenizer.from_pretrained(\"sentence-transformers/LaBSE\")\n",
    "labse_model = AutoModelForSequenceClassification.from_pretrained(\"sentence-transformers/LaBSE\", num_labels=2)\n",
    "\n",
    "muril_tokenizer = AutoTokenizer.from_pretrained(\"google/muril-base-cased\")\n",
    "muril_model = AutoModelForSequenceClassification.from_pretrained(\"google/muril-base-cased\", num_labels=2)\n",
    "\n",
    "# Tokenize inputs\n",
    "train_encodings_labse = labse_tokenizer(train_texts, truncation=True, padding=True)\n",
    "test_encodings_labse = labse_tokenizer(test_texts, truncation=True, padding=True)\n",
    "\n",
    "train_encodings_muril = muril_tokenizer(train_texts, truncation=True, padding=True)\n",
    "test_encodings_muril = muril_tokenizer(test_texts, truncation=True, padding=True)\n",
    "\n",
    "# Convert labels to PyTorch tensors\n",
    "train_labels = torch.tensor(train_labels)\n",
    "test_labels = torch.tensor(test_labels)\n",
    "\n",
    "# Create PyTorch datasets\n",
    "train_dataset_labse = torch.utils.data.TensorDataset(torch.tensor(train_encodings_labse['input_ids']),\n",
    "                                                     torch.tensor(train_encodings_labse['attention_mask']),\n",
    "                                                     train_labels)\n",
    "test_dataset_labse = torch.utils.data.TensorDataset(torch.tensor(test_encodings_labse['input_ids']),\n",
    "                                                    torch.tensor(test_encodings_labse['attention_mask']),\n",
    "                                                    test_labels)\n",
    "\n",
    "train_dataset_muril = torch.utils.data.TensorDataset(torch.tensor(train_encodings_muril['input_ids']),\n",
    "                                                     torch.tensor(train_encodings_muril['attention_mask']),\n",
    "                                                     train_labels)\n",
    "test_dataset_muril = torch.utils.data.TensorDataset(torch.tensor(test_encodings_muril['input_ids']),\n",
    "                                                    torch.tensor(test_encodings_muril['attention_mask']),\n",
    "                                                    test_labels)\n",
    "\n",
    "# Create data loaders\n",
    "train_loader_labse = torch.utils.data.DataLoader(train_dataset_labse, batch_size=8, shuffle=True)\n",
    "test_loader_labse = torch.utils.data.DataLoader(test_dataset_labse, batch_size=8, shuffle=False)\n",
    "\n",
    "train_loader_muril = torch.utils.data.DataLoader(train_dataset_muril, batch_size=8, shuffle=True)\n",
    "test_loader_muril = torch.utils.data.DataLoader(test_dataset_muril, batch_size=8, shuffle=False)\n",
    "\n",
    "# Set device (GPU if available, otherwise CPU)\n",
    "device = torch.device('cuda') if torch.cuda.is_available() else torch.device('cpu')\n",
    "labse_model.to(device)\n",
    "muril_model.to(device)\n",
    "\n",
    "# Set optimizers and learning rate schedulers\n",
    "optimizer_labse = AdamW(labse_model.parameters(), lr=1e-5)\n",
    "optimizer_muril = AdamW(muril_model.parameters(), lr=1e-5)\n",
    "num_epochs = 10\n",
    "\n",
    "# Training loop for LaBSE\n",
    "for epoch in range(num_epochs):\n",
    "    print(f\"Epoch {epoch+1}/{num_epochs} (LaBSE)\")\n",
    "    labse_model.train()\n",
    "    for batch in train_loader_labse:\n",
    "        input_ids, attention_mask, labels = batch\n",
    "        input_ids, attention_mask, labels = input_ids.to(device), attention_mask.to(device), labels.to(device)\n",
    "        \n",
    "        optimizer_labse.zero_grad()\n",
    "        outputs = labse_model(input_ids, attention_mask=attention_mask, labels=labels)\n",
    "        loss = outputs.loss\n",
    "        loss.backward()\n",
    "        optimizer_labse.step()\n",
    "\n",
    "# Training loop for MuRIL\n",
    "for epoch in range(num_epochs):\n",
    "    print(f\"Epoch {epoch+1}/{num_epochs} (MuRIL)\")\n",
    "    muril_model.train()\n",
    "    for batch in train_loader_muril:\n",
    "        input_ids, attention_mask, labels = batch\n",
    "        input_ids, attention_mask, labels = input_ids.to(device), attention_mask.to(device), labels.to(device)\n",
    "        \n",
    "        optimizer_muril.zero_grad()\n",
    "        outputs = muril_model(input_ids, attention_mask=attention_mask, labels=labels)\n",
    "        loss = outputs.loss\n",
    "        loss.backward()\n",
    "        optimizer_muril.step()\n",
    "\n",
    "# Evaluation\n",
    "labse_model.eval()\n",
    "muril_model.eval()\n",
    "predictions_labse = []\n",
    "predictions_muril = []\n",
    "true_labels = []\n",
    "for batch in test_loader_labse:\n",
    "    input_ids, attention_mask, labels = batch\n",
    "    input_ids, attention_mask, labels = input_ids.to(device), attention_mask.to(device), labels.to(device)\n",
    "    \n",
    "    with torch.no_grad():\n",
    "        outputs = labse_model(input_ids, attention_mask=attention_mask)\n",
    "    \n",
    "    logits = outputs.logits\n",
    "    preds = torch.argmax(logits, dim=1)\n",
    "    \n",
    "    predictions_labse.extend(preds.cpu().numpy())\n",
    "\n",
    "for batch in test_loader_muril:\n",
    "    input_ids, attention_mask, labels = batch\n",
    "    input_ids, attention_mask, labels = input_ids.to(device), attention_mask.to(device), labels.to(device)\n",
    "    \n",
    "    with torch.no_grad():\n",
    "        outputs = muril_model(input_ids, attention_mask=attention_mask)\n",
    "    \n",
    "    logits = outputs.logits\n",
    "    preds = torch.argmax(logits, dim=1)\n",
    "    \n",
    "    predictions_muril.extend(preds.cpu().numpy())\n",
    "    true_labels.extend(labels.cpu().numpy())\n",
    "\n",
    "# Combine predictions from both models\n",
    "final_predictions = []\n",
    "for pred_labse, pred_muril in zip(predictions_labse, predictions_muril):\n",
    "    # Simple voting scheme, you can choose a different method for combining predictions\n",
    "    combined_prediction = 1 if (pred_labse + pred_muril) >= 1 else 0\n",
    "    final_predictions.append(combined_prediction)\n",
    "\n",
    "# Calculate accuracy and other metrics\n",
    "accuracy = accuracy_score(true_labels, final_predictions)\n",
    "report = classification_report(true_labels, final_predictions)\n",
    "\n",
    "print(\"Accuracy:\", accuracy)\n",
    "print(\"Classification Report:\")\n",
    "print(report)\n"
   ]
  },
  {
   "cell_type": "code",
   "execution_count": 9,
   "metadata": {
    "execution": {
     "iopub.execute_input": "2024-05-24T18:08:40.498939Z",
     "iopub.status.busy": "2024-05-24T18:08:40.498182Z",
     "iopub.status.idle": "2024-05-24T18:08:58.169870Z",
     "shell.execute_reply": "2024-05-24T18:08:58.168900Z",
     "shell.execute_reply.started": "2024-05-24T18:08:40.498907Z"
    },
    "trusted": true
   },
   "outputs": [
    {
     "data": {
      "image/png": "[encoded data removed]",
      "text/plain": [
       "<Figure size 1000x800 with 2 Axes>"
      ]
     },
     "metadata": {},
     "output_type": "display_data"
    }
   ],
   "source": [
    "import numpy as np\n",
    "from sklearn.manifold import TSNE\n",
    "import matplotlib.pyplot as plt\n",
    "\n",
    "# Function to get embeddings\n",
    "def get_embeddings(model, tokenizer, data_loader):\n",
    "    embeddings = []\n",
    "    labels = []\n",
    "    for batch in data_loader:\n",
    "        input_ids, attention_mask, batch_labels = batch\n",
    "        input_ids, attention_mask = input_ids.to(device), attention_mask.to(device)\n",
    "        \n",
    "        with torch.no_grad():\n",
    "            outputs = model(input_ids, attention_mask=attention_mask)\n",
    "        \n",
    "        # Extract logits\n",
    "        logits = outputs.logits\n",
    "        \n",
    "        # Convert the tensor to numpy array and append to the list\n",
    "        embeddings.append(logits.cpu().numpy())\n",
    "        labels.extend(batch_labels.numpy())\n",
    "    \n",
    "    # Concatenate all embeddings into one numpy array\n",
    "    embeddings = np.concatenate(embeddings)\n",
    "    return embeddings, labels\n",
    "\n",
    "# Get embeddings for LaBSE\n",
    "labse_embeddings, labse_labels = get_embeddings(labse_model, labse_tokenizer, test_loader_labse)\n",
    "\n",
    "# Get embeddings for MuRIL\n",
    "muril_embeddings, muril_labels = get_embeddings(muril_model, muril_tokenizer, test_loader_muril)\n",
    "\n",
    "# Concatenate embeddings and labels\n",
    "all_embeddings = np.concatenate([labse_embeddings, muril_embeddings])\n",
    "all_labels = labse_labels + muril_labels\n",
    "\n",
    "# Apply t-SNE to reduce dimensionality\n",
    "tsne = TSNE(n_components=2, random_state=42)\n",
    "embeddings_tsne = tsne.fit_transform(all_embeddings)\n",
    "\n",
    "# Plot t-SNE\n",
    "plt.figure(figsize=(10, 8))\n",
    "plt.scatter(embeddings_tsne[:, 0], embeddings_tsne[:, 1], c=all_labels, cmap='coolwarm')\n",
    "plt.title('t-SNE Plot of Transformer Embeddings')\n",
    "plt.xlabel('t-SNE Component 1')\n",
    "plt.ylabel('t-SNE Component 2')\n",
    "plt.colorbar()\n",
    "plt.show()\n"
   ]
  },
  {
   "cell_type": "code",
   "execution_count": null,
   "metadata": {},
   "outputs": [],
   "source": [
    "import numpy as np\n",
    "import matplotlib.pyplot as plt\n",
    "from sklearn.manifold import TSNE\n",
    "from sklearn.metrics import confusion_matrix\n",
    "import seaborn as sns\n",
    "\n",
    "# Convert predictions and true labels to numpy arrays\n",
    "true_labels_np = np.array(true_labels)\n",
    "final_predictions_np = np.array(final_predictions)\n",
    "\n",
    "# Reduce dimensionality using t-SNE\n",
    "tsne = TSNE(n_components=2, random_state=42)\n",
    "tsne_embeddings = tsne.fit_transform(final_predictions_np.reshape(-1, 1))\n",
    "\n",
    "# Plot t-SNE embeddings\n",
    "plt.figure(figsize=(10, 8))\n",
    "sns.scatterplot(x=tsne_embeddings[:,0], y=tsne_embeddings[:,1], hue=true_labels_np, palette='Set1', legend='full')\n",
    "plt.title('t-SNE Plot of Combined Predictions')\n",
    "plt.xlabel('t-SNE Dimension 1')\n",
    "plt.ylabel('t-SNE Dimension 2')\n",
    "plt.legend(title='True Label', loc='upper right')\n",
    "plt.grid(True)\n",
    "plt.show()\n",
    "\n",
    "# Plot confusion matrix\n",
    "conf_matrix = confusion_matrix(true_labels_np, final_predictions_np)\n",
    "plt.figure(figsize=(8, 6))\n",
    "sns.heatmap(conf_matrix, annot=True, fmt='d', cmap='Blues', xticklabels=['non-hate', 'hate'], yticklabels=['non-hate', 'hate'])\n",
    "plt.title('Confusion Matrix')\n",
    "plt.xlabel('Predicted Label')\n",
    "plt.ylabel('True Label')\n",
    "plt.show()\n"
   ]
  },
  {
   "cell_type": "markdown",
   "metadata": {},
   "source": [
    "translated"
   ]
  },
  {
   "cell_type": "code",
   "execution_count": 3,
   "metadata": {
    "execution": {
     "iopub.execute_input": "2024-03-16T07:14:09.166433Z",
     "iopub.status.busy": "2024-03-16T07:14:09.165916Z",
     "iopub.status.idle": "2024-03-16T07:55:24.626895Z",
     "shell.execute_reply": "2024-03-16T07:55:24.625762Z",
     "shell.execute_reply.started": "2024-03-16T07:14:09.166406Z"
    },
    "trusted": true
   },
   "outputs": [
    {
     "name": "stderr",
     "output_type": "stream",
     "text": [
      "Some weights of BertForSequenceClassification were not initialized from the model checkpoint at sentence-transformers/LaBSE and are newly initialized: ['classifier.bias', 'classifier.weight']\n",
      "You should probably TRAIN this model on a down-stream task to be able to use it for predictions and inference.\n",
      "Some weights of BertForSequenceClassification were not initialized from the model checkpoint at google/muril-base-cased and are newly initialized: ['classifier.bias', 'classifier.weight']\n",
      "You should probably TRAIN this model on a down-stream task to be able to use it for predictions and inference.\n",
      "/opt/conda/lib/python3.10/site-packages/transformers/optimization.py:429: FutureWarning: This implementation of AdamW is deprecated and will be removed in a future version. Use the PyTorch implementation torch.optim.AdamW instead, or set `no_deprecation_warning=True` to disable this warning\n",
      "  warnings.warn(\n"
     ]
    },
    {
     "name": "stdout",
     "output_type": "stream",
     "text": [
      "Epoch 1/10 (LaBSE)\n",
      "Epoch 2/10 (LaBSE)\n",
      "Epoch 3/10 (LaBSE)\n",
      "Epoch 4/10 (LaBSE)\n",
      "Epoch 5/10 (LaBSE)\n",
      "Epoch 6/10 (LaBSE)\n",
      "Epoch 7/10 (LaBSE)\n",
      "Epoch 8/10 (LaBSE)\n",
      "Epoch 9/10 (LaBSE)\n",
      "Epoch 10/10 (LaBSE)\n",
      "Epoch 1/10 (MuRIL)\n",
      "Epoch 2/10 (MuRIL)\n",
      "Epoch 3/10 (MuRIL)\n",
      "Epoch 4/10 (MuRIL)\n",
      "Epoch 5/10 (MuRIL)\n",
      "Epoch 6/10 (MuRIL)\n",
      "Epoch 7/10 (MuRIL)\n",
      "Epoch 8/10 (MuRIL)\n",
      "Epoch 9/10 (MuRIL)\n",
      "Epoch 10/10 (MuRIL)\n",
      "Accuracy: 0.74875\n",
      "Classification Report:\n",
      "              precision    recall  f1-score   support\n",
      "\n",
      "           0       0.78      0.74      0.76       430\n",
      "           1       0.72      0.76      0.74       370\n",
      "\n",
      "    accuracy                           0.75       800\n",
      "   macro avg       0.75      0.75      0.75       800\n",
      "weighted avg       0.75      0.75      0.75       800\n",
      "\n"
     ]
    }
   ],
   "source": [
    "import pandas as pd\n",
    "import torch\n",
    "from sklearn.model_selection import train_test_split\n",
    "from transformers import AutoTokenizer, AutoModelForSequenceClassification, AdamW\n",
    "from sklearn.metrics import accuracy_score, classification_report\n",
    "\n",
    "# Load your CSV file\n",
    "df = pd.read_csv('/kaggle/input/telugudat1/Hos_train_translated.csv')\n",
    "\n",
    "# Mapping labels to integers\n",
    "label_map = {'hate': 1, 'non-hate': 0}\n",
    "df['Label'] = df['Label'].map(label_map)\n",
    "\n",
    "# Extract input texts and labels\n",
    "texts = df['comments '].tolist()\n",
    "labels = df['Label'].tolist()\n",
    "\n",
    "# Split data into train and test sets\n",
    "train_texts, test_texts, train_labels, test_labels = train_test_split(texts, labels, test_size=0.2, random_state=42)\n",
    "\n",
    "# Load pre-trained LaBSE and MuRIL models and tokenizers\n",
    "labse_tokenizer = AutoTokenizer.from_pretrained(\"sentence-transformers/LaBSE\")\n",
    "labse_model = AutoModelForSequenceClassification.from_pretrained(\"sentence-transformers/LaBSE\", num_labels=2)\n",
    "\n",
    "muril_tokenizer = AutoTokenizer.from_pretrained(\"google/muril-base-cased\")\n",
    "muril_model = AutoModelForSequenceClassification.from_pretrained(\"google/muril-base-cased\", num_labels=2)\n",
    "\n",
    "# Tokenize inputs\n",
    "train_encodings_labse = labse_tokenizer(train_texts, truncation=True, padding=True)\n",
    "test_encodings_labse = labse_tokenizer(test_texts, truncation=True, padding=True)\n",
    "\n",
    "train_encodings_muril = muril_tokenizer(train_texts, truncation=True, padding=True)\n",
    "test_encodings_muril = muril_tokenizer(test_texts, truncation=True, padding=True)\n",
    "\n",
    "# Convert labels to PyTorch tensors\n",
    "train_labels = torch.tensor(train_labels)\n",
    "test_labels = torch.tensor(test_labels)\n",
    "\n",
    "# Create PyTorch datasets\n",
    "train_dataset_labse = torch.utils.data.TensorDataset(torch.tensor(train_encodings_labse['input_ids']),\n",
    "                                                     torch.tensor(train_encodings_labse['attention_mask']),\n",
    "                                                     train_labels)\n",
    "test_dataset_labse = torch.utils.data.TensorDataset(torch.tensor(test_encodings_labse['input_ids']),\n",
    "                                                    torch.tensor(test_encodings_labse['attention_mask']),\n",
    "                                                    test_labels)\n",
    "\n",
    "train_dataset_muril = torch.utils.data.TensorDataset(torch.tensor(train_encodings_muril['input_ids']),\n",
    "                                                     torch.tensor(train_encodings_muril['attention_mask']),\n",
    "                                                     train_labels)\n",
    "test_dataset_muril = torch.utils.data.TensorDataset(torch.tensor(test_encodings_muril['input_ids']),\n",
    "                                                    torch.tensor(test_encodings_muril['attention_mask']),\n",
    "                                                    test_labels)\n",
    "\n",
    "# Create data loaders\n",
    "train_loader_labse = torch.utils.data.DataLoader(train_dataset_labse, batch_size=8, shuffle=True)\n",
    "test_loader_labse = torch.utils.data.DataLoader(test_dataset_labse, batch_size=8, shuffle=False)\n",
    "\n",
    "train_loader_muril = torch.utils.data.DataLoader(train_dataset_muril, batch_size=8, shuffle=True)\n",
    "test_loader_muril = torch.utils.data.DataLoader(test_dataset_muril, batch_size=8, shuffle=False)\n",
    "\n",
    "# Set device (GPU if available, otherwise CPU)\n",
    "device = torch.device('cuda') if torch.cuda.is_available() else torch.device('cpu')\n",
    "labse_model.to(device)\n",
    "muril_model.to(device)\n",
    "\n",
    "# Set optimizers and learning rate schedulers\n",
    "optimizer_labse = AdamW(labse_model.parameters(), lr=1e-5)\n",
    "optimizer_muril = AdamW(muril_model.parameters(), lr=1e-5)\n",
    "num_epochs = 10\n",
    "\n",
    "# Training loop for LaBSE\n",
    "for epoch in range(num_epochs):\n",
    "    print(f\"Epoch {epoch+1}/{num_epochs} (LaBSE)\")\n",
    "    labse_model.train()\n",
    "    for batch in train_loader_labse:\n",
    "        input_ids, attention_mask, labels = batch\n",
    "        input_ids, attention_mask, labels = input_ids.to(device), attention_mask.to(device), labels.to(device)\n",
    "        \n",
    "        optimizer_labse.zero_grad()\n",
    "        outputs = labse_model(input_ids, attention_mask=attention_mask, labels=labels)\n",
    "        loss = outputs.loss\n",
    "        loss.backward()\n",
    "        optimizer_labse.step()\n",
    "\n",
    "# Training loop for MuRIL\n",
    "for epoch in range(num_epochs):\n",
    "    print(f\"Epoch {epoch+1}/{num_epochs} (MuRIL)\")\n",
    "    muril_model.train()\n",
    "    for batch in train_loader_muril:\n",
    "        input_ids, attention_mask, labels = batch\n",
    "        input_ids, attention_mask, labels = input_ids.to(device), attention_mask.to(device), labels.to(device)\n",
    "        \n",
    "        optimizer_muril.zero_grad()\n",
    "        outputs = muril_model(input_ids, attention_mask=attention_mask, labels=labels)\n",
    "        loss = outputs.loss\n",
    "        loss.backward()\n",
    "        optimizer_muril.step()\n",
    "\n",
    "# Evaluation\n",
    "labse_model.eval()\n",
    "muril_model.eval()\n",
    "predictions_labse = []\n",
    "predictions_muril = []\n",
    "true_labels = []\n",
    "for batch in test_loader_labse:\n",
    "    input_ids, attention_mask, labels = batch\n",
    "    input_ids, attention_mask, labels = input_ids.to(device), attention_mask.to(device), labels.to(device)\n",
    "    \n",
    "    with torch.no_grad():\n",
    "        outputs = labse_model(input_ids, attention_mask=attention_mask)\n",
    "    \n",
    "    logits = outputs.logits\n",
    "    preds = torch.argmax(logits, dim=1)\n",
    "    \n",
    "    predictions_labse.extend(preds.cpu().numpy())\n",
    "\n",
    "for batch in test_loader_muril:\n",
    "    input_ids, attention_mask, labels = batch\n",
    "    input_ids, attention_mask, labels = input_ids.to(device), attention_mask.to(device), labels.to(device)\n",
    "    \n",
    "    with torch.no_grad():\n",
    "        outputs = muril_model(input_ids, attention_mask=attention_mask)\n",
    "    \n",
    "    logits = outputs.logits\n",
    "    preds = torch.argmax(logits, dim=1)\n",
    "    \n",
    "    predictions_muril.extend(preds.cpu().numpy())\n",
    "    true_labels.extend(labels.cpu().numpy())\n",
    "\n",
    "# Combine predictions from both models\n",
    "final_predictions = []\n",
    "for pred_labse, pred_muril in zip(predictions_labse, predictions_muril):\n",
    "    # Simple voting scheme, you can choose a different method for combining predictions\n",
    "    combined_prediction = 1 if (pred_labse + pred_muril) >= 1 else 0\n",
    "    final_predictions.append(combined_prediction)\n",
    "\n",
    "# Calculate accuracy and other metrics\n",
    "accuracy = accuracy_score(true_labels, final_predictions)\n",
    "report = classification_report(true_labels, final_predictions)\n",
    "\n",
    "print(\"Accuracy:\", accuracy)\n",
    "print(\"Classification Report:\")\n",
    "print(report)\n"
   ]
  },
  {
   "cell_type": "markdown",
   "metadata": {},
   "source": [
    "transliterated"
   ]
  },
  {
   "cell_type": "code",
   "execution_count": 4,
   "metadata": {
    "execution": {
     "iopub.execute_input": "2024-03-16T07:55:24.630086Z",
     "iopub.status.busy": "2024-03-16T07:55:24.629449Z",
     "iopub.status.idle": "2024-03-16T08:45:22.395043Z",
     "shell.execute_reply": "2024-03-16T08:45:22.394076Z",
     "shell.execute_reply.started": "2024-03-16T07:55:24.630020Z"
    },
    "trusted": true
   },
   "outputs": [
    {
     "name": "stderr",
     "output_type": "stream",
     "text": [
      "Some weights of BertForSequenceClassification were not initialized from the model checkpoint at sentence-transformers/LaBSE and are newly initialized: ['classifier.bias', 'classifier.weight']\n",
      "You should probably TRAIN this model on a down-stream task to be able to use it for predictions and inference.\n",
      "Some weights of BertForSequenceClassification were not initialized from the model checkpoint at google/muril-base-cased and are newly initialized: ['classifier.bias', 'classifier.weight']\n",
      "You should probably TRAIN this model on a down-stream task to be able to use it for predictions and inference.\n",
      "/opt/conda/lib/python3.10/site-packages/transformers/optimization.py:429: FutureWarning: This implementation of AdamW is deprecated and will be removed in a future version. Use the PyTorch implementation torch.optim.AdamW instead, or set `no_deprecation_warning=True` to disable this warning\n",
      "  warnings.warn(\n"
     ]
    },
    {
     "name": "stdout",
     "output_type": "stream",
     "text": [
      "Epoch 1/10 (LaBSE)\n",
      "Epoch 2/10 (LaBSE)\n",
      "Epoch 3/10 (LaBSE)\n",
      "Epoch 4/10 (LaBSE)\n",
      "Epoch 5/10 (LaBSE)\n",
      "Epoch 6/10 (LaBSE)\n",
      "Epoch 7/10 (LaBSE)\n",
      "Epoch 8/10 (LaBSE)\n",
      "Epoch 9/10 (LaBSE)\n",
      "Epoch 10/10 (LaBSE)\n",
      "Epoch 1/10 (MuRIL)\n",
      "Epoch 2/10 (MuRIL)\n",
      "Epoch 3/10 (MuRIL)\n",
      "Epoch 4/10 (MuRIL)\n",
      "Epoch 5/10 (MuRIL)\n",
      "Epoch 6/10 (MuRIL)\n",
      "Epoch 7/10 (MuRIL)\n",
      "Epoch 8/10 (MuRIL)\n",
      "Epoch 9/10 (MuRIL)\n",
      "Epoch 10/10 (MuRIL)\n",
      "Accuracy: 0.74625\n",
      "Classification Report:\n",
      "              precision    recall  f1-score   support\n",
      "\n",
      "           0       0.78      0.73      0.76       430\n",
      "           1       0.71      0.76      0.74       370\n",
      "\n",
      "    accuracy                           0.75       800\n",
      "   macro avg       0.75      0.75      0.75       800\n",
      "weighted avg       0.75      0.75      0.75       800\n",
      "\n"
     ]
    }
   ],
   "source": [
    "import pandas as pd\n",
    "import torch\n",
    "from sklearn.model_selection import train_test_split\n",
    "from transformers import AutoTokenizer, AutoModelForSequenceClassification, AdamW\n",
    "from sklearn.metrics import accuracy_score, classification_report\n",
    "\n",
    "# Load your CSV file\n",
    "df = pd.read_csv('/kaggle/input/telugudat1/transliteration_4000.csv')\n",
    "\n",
    "# Mapping labels to integers\n",
    "label_map = {'hate': 1, 'non-hate': 0}\n",
    "df['Label'] = df['Label'].map(label_map)\n",
    "\n",
    "# Extract input texts and labels\n",
    "texts = df['Comments'].tolist()\n",
    "labels = df['Label'].tolist()\n",
    "\n",
    "# Split data into train and test sets\n",
    "train_texts, test_texts, train_labels, test_labels = train_test_split(texts, labels, test_size=0.2, random_state=42)\n",
    "\n",
    "# Load pre-trained LaBSE and MuRIL models and tokenizers\n",
    "labse_tokenizer = AutoTokenizer.from_pretrained(\"sentence-transformers/LaBSE\")\n",
    "labse_model = AutoModelForSequenceClassification.from_pretrained(\"sentence-transformers/LaBSE\", num_labels=2)\n",
    "\n",
    "muril_tokenizer = AutoTokenizer.from_pretrained(\"google/muril-base-cased\")\n",
    "muril_model = AutoModelForSequenceClassification.from_pretrained(\"google/muril-base-cased\", num_labels=2)\n",
    "\n",
    "# Tokenize inputs\n",
    "train_encodings_labse = labse_tokenizer(train_texts, truncation=True, padding=True)\n",
    "test_encodings_labse = labse_tokenizer(test_texts, truncation=True, padding=True)\n",
    "\n",
    "train_encodings_muril = muril_tokenizer(train_texts, truncation=True, padding=True)\n",
    "test_encodings_muril = muril_tokenizer(test_texts, truncation=True, padding=True)\n",
    "\n",
    "# Convert labels to PyTorch tensors\n",
    "train_labels = torch.tensor(train_labels)\n",
    "test_labels = torch.tensor(test_labels)\n",
    "\n",
    "# Create PyTorch datasets\n",
    "train_dataset_labse = torch.utils.data.TensorDataset(torch.tensor(train_encodings_labse['input_ids']),\n",
    "                                                     torch.tensor(train_encodings_labse['attention_mask']),\n",
    "                                                     train_labels)\n",
    "test_dataset_labse = torch.utils.data.TensorDataset(torch.tensor(test_encodings_labse['input_ids']),\n",
    "                                                    torch.tensor(test_encodings_labse['attention_mask']),\n",
    "                                                    test_labels)\n",
    "\n",
    "train_dataset_muril = torch.utils.data.TensorDataset(torch.tensor(train_encodings_muril['input_ids']),\n",
    "                                                     torch.tensor(train_encodings_muril['attention_mask']),\n",
    "                                                     train_labels)\n",
    "test_dataset_muril = torch.utils.data.TensorDataset(torch.tensor(test_encodings_muril['input_ids']),\n",
    "                                                    torch.tensor(test_encodings_muril['attention_mask']),\n",
    "                                                    test_labels)\n",
    "\n",
    "# Create data loaders\n",
    "train_loader_labse = torch.utils.data.DataLoader(train_dataset_labse, batch_size=8, shuffle=True)\n",
    "test_loader_labse = torch.utils.data.DataLoader(test_dataset_labse, batch_size=8, shuffle=False)\n",
    "\n",
    "train_loader_muril = torch.utils.data.DataLoader(train_dataset_muril, batch_size=8, shuffle=True)\n",
    "test_loader_muril = torch.utils.data.DataLoader(test_dataset_muril, batch_size=8, shuffle=False)\n",
    "\n",
    "# Set device (GPU if available, otherwise CPU)\n",
    "device = torch.device('cuda') if torch.cuda.is_available() else torch.device('cpu')\n",
    "labse_model.to(device)\n",
    "muril_model.to(device)\n",
    "\n",
    "# Set optimizers and learning rate schedulers\n",
    "optimizer_labse = AdamW(labse_model.parameters(), lr=1e-5)\n",
    "optimizer_muril = AdamW(muril_model.parameters(), lr=1e-5)\n",
    "num_epochs = 10\n",
    "\n",
    "# Training loop for LaBSE\n",
    "for epoch in range(num_epochs):\n",
    "    print(f\"Epoch {epoch+1}/{num_epochs} (LaBSE)\")\n",
    "    labse_model.train()\n",
    "    for batch in train_loader_labse:\n",
    "        input_ids, attention_mask, labels = batch\n",
    "        input_ids, attention_mask, labels = input_ids.to(device), attention_mask.to(device), labels.to(device)\n",
    "        \n",
    "        optimizer_labse.zero_grad()\n",
    "        outputs = labse_model(input_ids, attention_mask=attention_mask, labels=labels)\n",
    "        loss = outputs.loss\n",
    "        loss.backward()\n",
    "        optimizer_labse.step()\n",
    "\n",
    "# Training loop for MuRIL\n",
    "for epoch in range(num_epochs):\n",
    "    print(f\"Epoch {epoch+1}/{num_epochs} (MuRIL)\")\n",
    "    muril_model.train()\n",
    "    for batch in train_loader_muril:\n",
    "        input_ids, attention_mask, labels = batch\n",
    "        input_ids, attention_mask, labels = input_ids.to(device), attention_mask.to(device), labels.to(device)\n",
    "        \n",
    "        optimizer_muril.zero_grad()\n",
    "        outputs = muril_model(input_ids, attention_mask=attention_mask, labels=labels)\n",
    "        loss = outputs.loss\n",
    "        loss.backward()\n",
    "        optimizer_muril.step()\n",
    "\n",
    "# Evaluation\n",
    "labse_model.eval()\n",
    "muril_model.eval()\n",
    "predictions_labse = []\n",
    "predictions_muril = []\n",
    "true_labels = []\n",
    "for batch in test_loader_labse:\n",
    "    input_ids, attention_mask, labels = batch\n",
    "    input_ids, attention_mask, labels = input_ids.to(device), attention_mask.to(device), labels.to(device)\n",
    "    \n",
    "    with torch.no_grad():\n",
    "        outputs = labse_model(input_ids, attention_mask=attention_mask)\n",
    "    \n",
    "    logits = outputs.logits\n",
    "    preds = torch.argmax(logits, dim=1)\n",
    "    \n",
    "    predictions_labse.extend(preds.cpu().numpy())\n",
    "\n",
    "for batch in test_loader_muril:\n",
    "    input_ids, attention_mask, labels = batch\n",
    "    input_ids, attention_mask, labels = input_ids.to(device), attention_mask.to(device), labels.to(device)\n",
    "    \n",
    "    with torch.no_grad():\n",
    "        outputs = muril_model(input_ids, attention_mask=attention_mask)\n",
    "    \n",
    "    logits = outputs.logits\n",
    "    preds = torch.argmax(logits, dim=1)\n",
    "    \n",
    "    predictions_muril.extend(preds.cpu().numpy())\n",
    "    true_labels.extend(labels.cpu().numpy())\n",
    "\n",
    "# Combine predictions from both models\n",
    "final_predictions = []\n",
    "for pred_labse, pred_muril in zip(predictions_labse, predictions_muril):\n",
    "    # Simple voting scheme, you can choose a different method for combining predictions\n",
    "    combined_prediction = 1 if (pred_labse + pred_muril) >= 1 else 0\n",
    "    final_predictions.append(combined_prediction)\n",
    "\n",
    "# Calculate accuracy and other metrics\n",
    "accuracy = accuracy_score(true_labels, final_predictions)\n",
    "report = classification_report(true_labels, final_predictions)\n",
    "\n",
    "print(\"Accuracy:\", accuracy)\n",
    "print(\"Classification Report:\")\n",
    "print(report)\n"
   ]
  }
 ],
 "metadata": {
  "kaggle": {
   "accelerator": "nvidiaTeslaT4",
   "dataSources": [
    {
     "datasetId": 4608576,
     "sourceId": 7857213,
     "sourceType": "datasetVersion"
    },
    {
     "datasetId": 5078844,
     "sourceId": 8508436,
     "sourceType": "datasetVersion"
    }
   ],
   "dockerImageVersionId": 30699,
   "isGpuEnabled": true,
   "isInternetEnabled": true,
   "language": "python",
   "sourceType": "notebook"
  },
  "kernelspec": {
   "display_name": "Python 3",
   "language": "python",
   "name": "python3"
  },
  "language_info": {
   "codemirror_mode": {
    "name": "ipython",
    "version": 3
   },
   "file_extension": ".py",
   "mimetype": "text/x-python",
   "name": "python",
   "nbconvert_exporter": "python",
   "pygments_lexer": "ipython3",
   "version": "3.10.13"
  }
 },
 "nbformat": 4,
 "nbformat_minor": 4
}
