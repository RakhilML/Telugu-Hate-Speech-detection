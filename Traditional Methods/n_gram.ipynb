{
 "cells": [
  {
   "cell_type": "code",
   "execution_count": 1,
   "metadata": {},
   "outputs": [
    {
     "name": "stderr",
     "output_type": "stream",
     "text": [
      "C:\\Users\\Rakhil\\AppData\\Roaming\\Python\\Python311\\site-packages\\pandas\\core\\arrays\\masked.py:60: UserWarning: Pandas requires version '1.3.6' or newer of 'bottleneck' (version '1.3.5' currently installed).\n",
      "  from pandas.core import (\n"
     ]
    }
   ],
   "source": [
    "from sklearn.linear_model import LogisticRegression\n",
    "from sklearn.utils.class_weight import compute_class_weight\n",
    "from sklearn.metrics import accuracy_score, recall_score, precision_score, f1_score, classification_report\n",
    "from sklearn import preprocessing\n",
    "import numpy as np\n",
    "import pandas as pd\n",
    "from sklearn.metrics import confusion_matrix\n",
    "import seaborn as sns\n",
    "from sklearn.feature_extraction.text import CountVectorizer\n",
    "import matplotlib.pyplot as plt"
   ]
  },
  {
   "cell_type": "code",
   "execution_count": 2,
   "metadata": {},
   "outputs": [],
   "source": [
    "train = pd.read_csv(\"training_data_telugu-hate.csv\")\n",
    "test = pd.read_csv(\"telugu-english-test-data-with-labels.csv\",header=None)"
   ]
  },
  {
   "cell_type": "code",
   "execution_count": 3,
   "metadata": {},
   "outputs": [],
   "source": [
    "# Extract column names from the first row\n",
    "columns = test.iloc[0].tolist()\n",
    "test = test[1:]  # Remove the first row containing column names\n",
    "test.columns = columns  # Set the correct column names\n",
    "\n",
    "# Separate the train sentences and labels into lists\n",
    "train_sentences = train['Comments'].tolist()\n",
    "train_labels = train['Label'].tolist()\n",
    "\n",
    "# Separate the test sentences and labels into lists\n",
    "test = test.dropna()  # Drop rows with missing values\n",
    "test_sentences = test['Comments'].tolist()\n",
    "test_labels = test['Label'].tolist()\n",
    "\n",
    "# Label encoding\n",
    "le = preprocessing.LabelEncoder()\n",
    "train_labels_encoded = le.fit_transform(train_labels)\n",
    "test_labels_encoded = le.transform(test_labels)  # Use transform instead of fit_transform"
   ]
  },
  {
   "cell_type": "markdown",
   "metadata": {},
   "source": [
    "## n_gram"
   ]
  },
  {
   "cell_type": "code",
   "execution_count": 51,
   "metadata": {},
   "outputs": [],
   "source": [
    "import pandas as pd\n",
    "from sklearn.feature_extraction.text import CountVectorizer\n",
    "\n",
    "# Extract n-grams\n",
    "def extract_ngrams(train_data, test_data, ngram_range=(1, 2)):\n",
    "    vectorizer = CountVectorizer(ngram_range=ngram_range)\n",
    "    X_train = vectorizer.fit_transform(train_data['comments'])\n",
    "    X_test = vectorizer.transform(test_data['comments'])\n",
    "    feature_names = vectorizer.get_feature_names_out()\n",
    "    return X_train, X_test, feature_names\n",
    "\n",
    "# Create train and test dataframes\n",
    "train_data = pd.DataFrame({'comments': train_sentences})\n",
    "test_data = pd.DataFrame({'comments': test_sentences})\n",
    "\n",
    "# Extract n-grams\n",
    "X_train, X_test, feature_names = extract_ngrams(train_data, test_data)\n"
   ]
  },
  {
   "cell_type": "markdown",
   "metadata": {},
   "source": [
    "## Logistic regression"
   ]
  },
  {
   "cell_type": "code",
   "execution_count": 59,
   "metadata": {},
   "outputs": [
    {
     "name": "stdout",
     "output_type": "stream",
     "text": [
      "Accuracy: 0.662\n",
      "              precision    recall  f1-score   support\n",
      "\n",
      "        hate       0.66      0.67      0.67       250\n",
      "    non-hate       0.67      0.65      0.66       250\n",
      "\n",
      "    accuracy                           0.66       500\n",
      "   macro avg       0.66      0.66      0.66       500\n",
      "weighted avg       0.66      0.66      0.66       500\n",
      "\n"
     ]
    }
   ],
   "source": [
    "from sklearn.linear_model import LogisticRegression\n",
    "from sklearn.metrics import accuracy_score\n",
    "\n",
    "# Train Logistic Regression model\n",
    "model = LogisticRegression(max_iter=1000)\n",
    "model.fit(X_train, train_labels)\n",
    "\n",
    "# Make predictions for the test set\n",
    "test_predictions = model.predict(X_test)\n",
    "\n",
    "# Evaluate the model\n",
    "accuracy = accuracy_score(test_labels, test_predictions)\n",
    "print(\"Accuracy:\", accuracy)\n",
    "\n",
    "# Print the classification report\n",
    "from sklearn.metrics import classification_report\n",
    "print(classification_report(test_labels, test_predictions))"
   ]
  },
  {
   "cell_type": "markdown",
   "metadata": {},
   "source": [
    "## random forest"
   ]
  },
  {
   "cell_type": "code",
   "execution_count": 53,
   "metadata": {},
   "outputs": [
    {
     "name": "stdout",
     "output_type": "stream",
     "text": [
      "Accuracy: 0.544\n",
      "              precision    recall  f1-score   support\n",
      "\n",
      "        hate       0.55      0.47      0.51       250\n",
      "    non-hate       0.54      0.62      0.58       250\n",
      "\n",
      "    accuracy                           0.54       500\n",
      "   macro avg       0.55      0.54      0.54       500\n",
      "weighted avg       0.55      0.54      0.54       500\n",
      "\n"
     ]
    }
   ],
   "source": [
    "import pandas as pd\n",
    "from sklearn.ensemble import RandomForestClassifier\n",
    "from sklearn.metrics import accuracy_score\n",
    "\n",
    "# Assuming train_labels and test_labels are your actual labels for train and test data\n",
    "\n",
    "# Train Random Forest model\n",
    "model = RandomForestClassifier()\n",
    "model.fit(X_train, train_labels)\n",
    "\n",
    "# Make predictions for the test set\n",
    "test_predictions = model.predict(X_test)\n",
    "\n",
    "# Evaluate the model\n",
    "accuracy = accuracy_score(test_labels, test_predictions)\n",
    "print(\"Accuracy:\", accuracy)\n",
    "\n",
    "# Print the classification report\n",
    "print(classification_report(test_labels, test_predictions))\n"
   ]
  },
  {
   "cell_type": "markdown",
   "metadata": {},
   "source": [
    "## xgboost"
   ]
  },
  {
   "cell_type": "code",
   "execution_count": 56,
   "metadata": {},
   "outputs": [
    {
     "name": "stdout",
     "output_type": "stream",
     "text": [
      "Accuracy: 0.598\n",
      "              precision    recall  f1-score   support\n",
      "\n",
      "           0       0.58      0.69      0.63       250\n",
      "           1       0.62      0.51      0.56       250\n",
      "\n",
      "    accuracy                           0.60       500\n",
      "   macro avg       0.60      0.60      0.59       500\n",
      "weighted avg       0.60      0.60      0.59       500\n",
      "\n"
     ]
    }
   ],
   "source": [
    "from sklearn.preprocessing import LabelEncoder\n",
    "\n",
    "# Encode labels\n",
    "label_encoder = LabelEncoder()\n",
    "train_labels_encoded = label_encoder.fit_transform(train_labels)\n",
    "test_labels_encoded = label_encoder.transform(test_labels)\n",
    "\n",
    "# Train XGBoost model\n",
    "model = xgb.XGBClassifier()\n",
    "model.fit(X_train, train_labels_encoded)\n",
    "\n",
    "# Make predictions for the test set\n",
    "test_predictions = model.predict(X_test)\n",
    "\n",
    "# Decode predictions (if needed)\n",
    "test_predictions_decoded = label_encoder.inverse_transform(test_predictions)\n",
    "\n",
    "# Evaluate the model\n",
    "accuracy = accuracy_score(test_labels_encoded, test_predictions)\n",
    "print(\"Accuracy:\", accuracy)\n",
    "\n",
    "# Print the classification report\n",
    "print(classification_report(test_labels_encoded, test_predictions))\n"
   ]
  },
  {
   "cell_type": "markdown",
   "metadata": {},
   "source": [
    "## svm"
   ]
  },
  {
   "cell_type": "code",
   "execution_count": 61,
   "metadata": {},
   "outputs": [
    {
     "name": "stdout",
     "output_type": "stream",
     "text": [
      "Accuracy: 0.642\n",
      "              precision    recall  f1-score   support\n",
      "\n",
      "        hate       0.63      0.71      0.66       250\n",
      "    non-hate       0.66      0.58      0.62       250\n",
      "\n",
      "    accuracy                           0.64       500\n",
      "   macro avg       0.64      0.64      0.64       500\n",
      "weighted avg       0.64      0.64      0.64       500\n",
      "\n"
     ]
    }
   ],
   "source": [
    "from sklearn.svm import SVC\n",
    "\n",
    "# Train SVM model\n",
    "model = SVC()\n",
    "model.fit(X_train, train_labels)\n",
    "\n",
    "# Make predictions for the test set\n",
    "test_predictions = model.predict(X_test)\n",
    "\n",
    "# Evaluate the model\n",
    "accuracy = accuracy_score(test_labels, test_predictions)\n",
    "print(\"Accuracy:\", accuracy)\n",
    "\n",
    "# Print the classification report\n",
    "print(classification_report(test_labels, test_predictions))"
   ]
  },
  {
   "cell_type": "markdown",
   "metadata": {},
   "source": [
    "## knn"
   ]
  },
  {
   "cell_type": "code",
   "execution_count": 62,
   "metadata": {},
   "outputs": [
    {
     "name": "stdout",
     "output_type": "stream",
     "text": [
      "Accuracy: 0.518\n",
      "              precision    recall  f1-score   support\n",
      "\n",
      "        hate       0.52      0.42      0.46       250\n",
      "    non-hate       0.51      0.62      0.56       250\n",
      "\n",
      "    accuracy                           0.52       500\n",
      "   macro avg       0.52      0.52      0.51       500\n",
      "weighted avg       0.52      0.52      0.51       500\n",
      "\n"
     ]
    }
   ],
   "source": [
    "from sklearn.neighbors import KNeighborsClassifier\n",
    "\n",
    "# Train KNN model\n",
    "model = KNeighborsClassifier()\n",
    "model.fit(X_train, train_labels)\n",
    "\n",
    "# Make predictions for the test set\n",
    "test_predictions = model.predict(X_test)\n",
    "\n",
    "# Evaluate the model\n",
    "accuracy = accuracy_score(test_labels, test_predictions)\n",
    "print(\"Accuracy:\", accuracy)\n",
    "\n",
    "# Print the classification report\n",
    "print(classification_report(test_labels, test_predictions))\n"
   ]
  },
  {
   "cell_type": "markdown",
   "metadata": {},
   "source": [
    "## decision tree"
   ]
  },
  {
   "cell_type": "code",
   "execution_count": 63,
   "metadata": {},
   "outputs": [
    {
     "name": "stdout",
     "output_type": "stream",
     "text": [
      "Accuracy: 0.528\n",
      "              precision    recall  f1-score   support\n",
      "\n",
      "        hate       0.54      0.36      0.44       250\n",
      "    non-hate       0.52      0.69      0.59       250\n",
      "\n",
      "    accuracy                           0.53       500\n",
      "   macro avg       0.53      0.53      0.51       500\n",
      "weighted avg       0.53      0.53      0.51       500\n",
      "\n"
     ]
    }
   ],
   "source": [
    "\n",
    "from sklearn.tree import DecisionTreeClassifier\n",
    "\n",
    "# Train Decision Tree model\n",
    "model = DecisionTreeClassifier()\n",
    "model.fit(X_train, train_labels)\n",
    "\n",
    "# Make predictions for the test set\n",
    "test_predictions = model.predict(X_test)\n",
    "\n",
    "# Evaluate the model\n",
    "accuracy = accuracy_score(test_labels, test_predictions)\n",
    "print(\"Accuracy:\", accuracy)\n",
    "\n",
    "# Print the classification report\n",
    "print(classification_report(test_labels, test_predictions))\n"
   ]
  },
  {
   "cell_type": "markdown",
   "metadata": {},
   "source": [
    "## adaboost"
   ]
  },
  {
   "cell_type": "code",
   "execution_count": 64,
   "metadata": {},
   "outputs": [
    {
     "name": "stderr",
     "output_type": "stream",
     "text": [
      "C:\\Users\\Rakhil\\AppData\\Roaming\\Python\\Python311\\site-packages\\sklearn\\ensemble\\_weight_boosting.py:519: FutureWarning: The SAMME.R algorithm (the default) is deprecated and will be removed in 1.6. Use the SAMME algorithm to circumvent this warning.\n",
      "  warnings.warn(\n"
     ]
    },
    {
     "name": "stdout",
     "output_type": "stream",
     "text": [
      "Accuracy: 0.576\n",
      "              precision    recall  f1-score   support\n",
      "\n",
      "        hate       0.55      0.81      0.66       250\n",
      "    non-hate       0.64      0.34      0.45       250\n",
      "\n",
      "    accuracy                           0.58       500\n",
      "   macro avg       0.60      0.58      0.55       500\n",
      "weighted avg       0.60      0.58      0.55       500\n",
      "\n"
     ]
    }
   ],
   "source": [
    "\n",
    "from sklearn.ensemble import AdaBoostClassifier\n",
    "\n",
    "# Train AdaBoost model\n",
    "model = AdaBoostClassifier()\n",
    "model.fit(X_train, train_labels)\n",
    "\n",
    "# Make predictions for the test set\n",
    "test_predictions = model.predict(X_test)\n",
    "\n",
    "# Evaluate the model\n",
    "accuracy = accuracy_score(test_labels, test_predictions)\n",
    "print(\"Accuracy:\", accuracy)\n",
    "\n",
    "# Print the classification report\n",
    "print(classification_report(test_labels, test_predictions))\n"
   ]
  },
  {
   "cell_type": "markdown",
   "metadata": {},
   "source": [
    "## naive bayes"
   ]
  },
  {
   "cell_type": "code",
   "execution_count": 67,
   "metadata": {},
   "outputs": [
    {
     "name": "stdout",
     "output_type": "stream",
     "text": [
      "Accuracy: 0.522\n",
      "              precision    recall  f1-score   support\n",
      "\n",
      "        hate       0.54      0.30      0.39       250\n",
      "    non-hate       0.52      0.74      0.61       250\n",
      "\n",
      "    accuracy                           0.52       500\n",
      "   macro avg       0.53      0.52      0.50       500\n",
      "weighted avg       0.53      0.52      0.50       500\n",
      "\n"
     ]
    }
   ],
   "source": [
    "\n",
    "from sklearn.naive_bayes import MultinomialNB\n",
    "\n",
    "# Train Multinomial Naive Bayes model\n",
    "model = MultinomialNB()\n",
    "model.fit(X_train, train_labels)\n",
    "\n",
    "# Make predictions for the test set\n",
    "test_predictions = model.predict(X_test)\n",
    "\n",
    "# Evaluate the model\n",
    "accuracy = accuracy_score(test_labels, test_predictions)\n",
    "print(\"Accuracy:\", accuracy)\n",
    "\n",
    "# Print the classification report\n",
    "print(classification_report(test_labels, test_predictions))\n"
   ]
  },
  {
   "cell_type": "markdown",
   "metadata": {},
   "source": [
    "## svm rbf "
   ]
  },
  {
   "cell_type": "code",
   "execution_count": 68,
   "metadata": {},
   "outputs": [
    {
     "name": "stdout",
     "output_type": "stream",
     "text": [
      "Accuracy: 0.642\n",
      "              precision    recall  f1-score   support\n",
      "\n",
      "        hate       0.63      0.71      0.66       250\n",
      "    non-hate       0.66      0.58      0.62       250\n",
      "\n",
      "    accuracy                           0.64       500\n",
      "   macro avg       0.64      0.64      0.64       500\n",
      "weighted avg       0.64      0.64      0.64       500\n",
      "\n"
     ]
    }
   ],
   "source": [
    "\n",
    "from sklearn.svm import SVC\n",
    "\n",
    "# Train SVM model with RBF kernel\n",
    "model = SVC(kernel='rbf')\n",
    "model.fit(X_train, train_labels)\n",
    "\n",
    "# Make predictions for the test set\n",
    "test_predictions = model.predict(X_test)\n",
    "\n",
    "# Evaluate the model\n",
    "accuracy = accuracy_score(test_labels, test_predictions)\n",
    "print(\"Accuracy:\", accuracy)\n",
    "\n",
    "# Print the classification report\n",
    "print(classification_report(test_labels, test_predictions))\n"
   ]
  }
 ],
 "metadata": {
  "kernelspec": {
   "display_name": "base",
   "language": "python",
   "name": "python3"
  },
  "language_info": {
   "codemirror_mode": {
    "name": "ipython",
    "version": 3
   },
   "file_extension": ".py",
   "mimetype": "text/x-python",
   "name": "python",
   "nbconvert_exporter": "python",
   "pygments_lexer": "ipython3",
   "version": "3.11.5"
  }
 },
 "nbformat": 4,
 "nbformat_minor": 2
}
