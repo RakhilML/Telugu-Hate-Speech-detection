{
 "cells": [
  {
   "cell_type": "code",
   "execution_count": 2,
   "metadata": {},
   "outputs": [],
   "source": [
    "import pandas as pd\n",
    "from nltk.translate.bleu_score import corpus_bleu\n",
    "import jiwer"
   ]
  },
  {
   "cell_type": "code",
   "execution_count": 28,
   "metadata": {},
   "outputs": [],
   "source": [
    "data = pd.read_csv(\"Hos_train_translated.csv\")\n",
    "data1 = pd.read_csv(\"D:/SEMESTER 6/NLP/translation/Hos_train_translated.csv\")\n",
    "\n",
    "telugu_texts = data['comments'].tolist()\n",
    "translated_texts = data1['Comments'].tolist()"
   ]
  },
  {
   "cell_type": "code",
   "execution_count": 29,
   "metadata": {},
   "outputs": [],
   "source": [
    "def bleu_score(telugu_texts, translated_texts):\n",
    "    # Convert translations to list of lists (required format for BLEU score)\n",
    "    translated_texts_tokenized = [translation.split() for translation in translated_texts]\n",
    "    # Calculate BLEU score\n",
    "    bleu = corpus_bleu([[telugu.split()] for telugu in telugu_texts], translated_texts_tokenized)\n",
    "    return bleu"
   ]
  },
  {
   "cell_type": "code",
   "execution_count": 34,
   "metadata": {},
   "outputs": [],
   "source": [
    "def wer_cer(telugu_texts, translated_texts):\n",
    "    wer_scores = []\n",
    "    cer_scores = []\n",
    "    for telugu, translation in zip(telugu_texts, translated_texts):\n",
    "        telugu_words = telugu.split()  # Split Telugu text into individual words\n",
    "        translation_words = translation.split()  # Split translated text into individual words\n",
    "        wer = jiwer.wer(telugu_words, translation_words)\n",
    "        wer_scores.append(wer)\n",
    "        # cer_scores.append(cer)\n",
    "    avg_wer = sum(wer_scores) / len(wer_scores)\n",
    "    # avg_cer = sum(cer_scores) / len(cer_scores)\n",
    "    return avg_wer, None  # returning None for CER since it's not being calculated\n"
   ]
  },
  {
   "cell_type": "code",
   "execution_count": 37,
   "metadata": {},
   "outputs": [
    {
     "name": "stdout",
     "output_type": "stream",
     "text": [
      "BLEU Score: 0.9966701980251361\n",
      "Average Word Error Rate (WER): 0.0\n"
     ]
    }
   ],
   "source": [
    "bleu = bleu_score(telugu_texts, translated_texts)\n",
    "\n",
    "print(\"BLEU Score:\", bleu)"
   ]
  }
 ],
 "metadata": {
  "kernelspec": {
   "display_name": "base",
   "language": "python",
   "name": "python3"
  },
  "language_info": {
   "codemirror_mode": {
    "name": "ipython",
    "version": 3
   },
   "file_extension": ".py",
   "mimetype": "text/x-python",
   "name": "python",
   "nbconvert_exporter": "python",
   "pygments_lexer": "ipython3",
   "version": "3.11.5"
  }
 },
 "nbformat": 4,
 "nbformat_minor": 2
}
