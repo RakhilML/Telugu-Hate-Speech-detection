{
 "cells": [
  {
   "cell_type": "code",
   "execution_count": 1,
   "metadata": {
    "tags": []
   },
   "outputs": [
    {
     "name": "stdout",
     "output_type": "stream",
     "text": [
      "Requirement already satisfied: pandas in /home/studio-lab-user/.conda/envs/default/lib/python3.9/site-packages (2.2.1)\n",
      "Requirement already satisfied: sentence-transformers in /home/studio-lab-user/.conda/envs/default/lib/python3.9/site-packages (2.5.1)\n",
      "Requirement already satisfied: numpy in /home/studio-lab-user/.conda/envs/default/lib/python3.9/site-packages (1.26.4)\n",
      "Requirement already satisfied: scikit-learn in /home/studio-lab-user/.conda/envs/default/lib/python3.9/site-packages (1.4.1.post1)\n",
      "Requirement already satisfied: seaborn in /home/studio-lab-user/.conda/envs/default/lib/python3.9/site-packages (0.13.2)\n",
      "Requirement already satisfied: matplotlib in /home/studio-lab-user/.conda/envs/default/lib/python3.9/site-packages (3.8.3)\n",
      "Requirement already satisfied: xgboost in /home/studio-lab-user/.conda/envs/default/lib/python3.9/site-packages (2.0.3)\n",
      "Requirement already satisfied: pytz>=2020.1 in /home/studio-lab-user/.conda/envs/default/lib/python3.9/site-packages (from pandas) (2023.3)\n",
      "Requirement already satisfied: python-dateutil>=2.8.2 in /home/studio-lab-user/.conda/envs/default/lib/python3.9/site-packages (from pandas) (2.8.2)\n",
      "Requirement already satisfied: tzdata>=2022.7 in /home/studio-lab-user/.conda/envs/default/lib/python3.9/site-packages (from pandas) (2024.1)\n",
      "Requirement already satisfied: Pillow in /home/studio-lab-user/.conda/envs/default/lib/python3.9/site-packages (from sentence-transformers) (10.2.0)\n",
      "Requirement already satisfied: tqdm in /home/studio-lab-user/.conda/envs/default/lib/python3.9/site-packages (from sentence-transformers) (4.66.2)\n",
      "Requirement already satisfied: scipy in /home/studio-lab-user/.conda/envs/default/lib/python3.9/site-packages (from sentence-transformers) (1.12.0)\n",
      "Requirement already satisfied: transformers<5.0.0,>=4.32.0 in /home/studio-lab-user/.conda/envs/default/lib/python3.9/site-packages (from sentence-transformers) (4.38.2)\n",
      "Requirement already satisfied: torch>=1.11.0 in /home/studio-lab-user/.conda/envs/default/lib/python3.9/site-packages (from sentence-transformers) (2.2.1)\n",
      "Requirement already satisfied: huggingface-hub>=0.15.1 in /home/studio-lab-user/.conda/envs/default/lib/python3.9/site-packages (from sentence-transformers) (0.21.4)\n",
      "Requirement already satisfied: threadpoolctl>=2.0.0 in /home/studio-lab-user/.conda/envs/default/lib/python3.9/site-packages (from scikit-learn) (3.3.0)\n",
      "Requirement already satisfied: joblib>=1.2.0 in /home/studio-lab-user/.conda/envs/default/lib/python3.9/site-packages (from scikit-learn) (1.3.2)\n",
      "Requirement already satisfied: kiwisolver>=1.3.1 in /home/studio-lab-user/.conda/envs/default/lib/python3.9/site-packages (from matplotlib) (1.4.5)\n",
      "Requirement already satisfied: contourpy>=1.0.1 in /home/studio-lab-user/.conda/envs/default/lib/python3.9/site-packages (from matplotlib) (1.2.0)\n",
      "Requirement already satisfied: cycler>=0.10 in /home/studio-lab-user/.conda/envs/default/lib/python3.9/site-packages (from matplotlib) (0.12.1)\n",
      "Requirement already satisfied: packaging>=20.0 in /home/studio-lab-user/.conda/envs/default/lib/python3.9/site-packages (from matplotlib) (23.1)\n",
      "Requirement already satisfied: pyparsing>=2.3.1 in /home/studio-lab-user/.conda/envs/default/lib/python3.9/site-packages (from matplotlib) (3.1.2)\n",
      "Requirement already satisfied: importlib-resources>=3.2.0 in /home/studio-lab-user/.conda/envs/default/lib/python3.9/site-packages (from matplotlib) (6.0.1)\n",
      "Requirement already satisfied: fonttools>=4.22.0 in /home/studio-lab-user/.conda/envs/default/lib/python3.9/site-packages (from matplotlib) (4.49.0)\n",
      "Requirement already satisfied: filelock in /home/studio-lab-user/.conda/envs/default/lib/python3.9/site-packages (from huggingface-hub>=0.15.1->sentence-transformers) (3.13.1)\n",
      "Requirement already satisfied: typing-extensions>=3.7.4.3 in /home/studio-lab-user/.conda/envs/default/lib/python3.9/site-packages (from huggingface-hub>=0.15.1->sentence-transformers) (4.10.0)\n",
      "Requirement already satisfied: pyyaml>=5.1 in /home/studio-lab-user/.conda/envs/default/lib/python3.9/site-packages (from huggingface-hub>=0.15.1->sentence-transformers) (6.0)\n",
      "Requirement already satisfied: requests in /home/studio-lab-user/.conda/envs/default/lib/python3.9/site-packages (from huggingface-hub>=0.15.1->sentence-transformers) (2.31.0)\n",
      "Requirement already satisfied: fsspec>=2023.5.0 in /home/studio-lab-user/.conda/envs/default/lib/python3.9/site-packages (from huggingface-hub>=0.15.1->sentence-transformers) (2024.2.0)\n",
      "Requirement already satisfied: zipp>=3.1.0 in /home/studio-lab-user/.conda/envs/default/lib/python3.9/site-packages (from importlib-resources>=3.2.0->matplotlib) (3.16.2)\n",
      "Requirement already satisfied: six>=1.5 in /home/studio-lab-user/.conda/envs/default/lib/python3.9/site-packages (from python-dateutil>=2.8.2->pandas) (1.16.0)\n",
      "Requirement already satisfied: nvidia-cuda-runtime-cu12==12.1.105 in /home/studio-lab-user/.conda/envs/default/lib/python3.9/site-packages (from torch>=1.11.0->sentence-transformers) (12.1.105)\n",
      "Requirement already satisfied: nvidia-nccl-cu12==2.19.3 in /home/studio-lab-user/.conda/envs/default/lib/python3.9/site-packages (from torch>=1.11.0->sentence-transformers) (2.19.3)\n",
      "Requirement already satisfied: nvidia-cuda-cupti-cu12==12.1.105 in /home/studio-lab-user/.conda/envs/default/lib/python3.9/site-packages (from torch>=1.11.0->sentence-transformers) (12.1.105)\n",
      "Requirement already satisfied: sympy in /home/studio-lab-user/.conda/envs/default/lib/python3.9/site-packages (from torch>=1.11.0->sentence-transformers) (1.12)\n",
      "Requirement already satisfied: networkx in /home/studio-lab-user/.conda/envs/default/lib/python3.9/site-packages (from torch>=1.11.0->sentence-transformers) (3.2.1)\n",
      "Requirement already satisfied: nvidia-curand-cu12==10.3.2.106 in /home/studio-lab-user/.conda/envs/default/lib/python3.9/site-packages (from torch>=1.11.0->sentence-transformers) (10.3.2.106)\n",
      "Requirement already satisfied: nvidia-cudnn-cu12==8.9.2.26 in /home/studio-lab-user/.conda/envs/default/lib/python3.9/site-packages (from torch>=1.11.0->sentence-transformers) (8.9.2.26)\n",
      "Requirement already satisfied: nvidia-cusolver-cu12==11.4.5.107 in /home/studio-lab-user/.conda/envs/default/lib/python3.9/site-packages (from torch>=1.11.0->sentence-transformers) (11.4.5.107)\n",
      "Requirement already satisfied: nvidia-nvtx-cu12==12.1.105 in /home/studio-lab-user/.conda/envs/default/lib/python3.9/site-packages (from torch>=1.11.0->sentence-transformers) (12.1.105)\n",
      "Requirement already satisfied: nvidia-cufft-cu12==11.0.2.54 in /home/studio-lab-user/.conda/envs/default/lib/python3.9/site-packages (from torch>=1.11.0->sentence-transformers) (11.0.2.54)\n",
      "Requirement already satisfied: nvidia-cuda-nvrtc-cu12==12.1.105 in /home/studio-lab-user/.conda/envs/default/lib/python3.9/site-packages (from torch>=1.11.0->sentence-transformers) (12.1.105)\n",
      "Requirement already satisfied: nvidia-cusparse-cu12==12.1.0.106 in /home/studio-lab-user/.conda/envs/default/lib/python3.9/site-packages (from torch>=1.11.0->sentence-transformers) (12.1.0.106)\n",
      "Requirement already satisfied: nvidia-cublas-cu12==12.1.3.1 in /home/studio-lab-user/.conda/envs/default/lib/python3.9/site-packages (from torch>=1.11.0->sentence-transformers) (12.1.3.1)\n",
      "Requirement already satisfied: triton==2.2.0 in /home/studio-lab-user/.conda/envs/default/lib/python3.9/site-packages (from torch>=1.11.0->sentence-transformers) (2.2.0)\n",
      "Requirement already satisfied: jinja2 in /home/studio-lab-user/.conda/envs/default/lib/python3.9/site-packages (from torch>=1.11.0->sentence-transformers) (3.1.2)\n",
      "Requirement already satisfied: nvidia-nvjitlink-cu12 in /home/studio-lab-user/.conda/envs/default/lib/python3.9/site-packages (from nvidia-cusolver-cu12==11.4.5.107->torch>=1.11.0->sentence-transformers) (12.4.99)\n",
      "Requirement already satisfied: regex!=2019.12.17 in /home/studio-lab-user/.conda/envs/default/lib/python3.9/site-packages (from transformers<5.0.0,>=4.32.0->sentence-transformers) (2023.12.25)\n",
      "Requirement already satisfied: tokenizers<0.19,>=0.14 in /home/studio-lab-user/.conda/envs/default/lib/python3.9/site-packages (from transformers<5.0.0,>=4.32.0->sentence-transformers) (0.15.2)\n",
      "Requirement already satisfied: safetensors>=0.4.1 in /home/studio-lab-user/.conda/envs/default/lib/python3.9/site-packages (from transformers<5.0.0,>=4.32.0->sentence-transformers) (0.4.2)\n",
      "Requirement already satisfied: MarkupSafe>=2.0 in /home/studio-lab-user/.conda/envs/default/lib/python3.9/site-packages (from jinja2->torch>=1.11.0->sentence-transformers) (2.1.3)\n",
      "Requirement already satisfied: urllib3<3,>=1.21.1 in /home/studio-lab-user/.conda/envs/default/lib/python3.9/site-packages (from requests->huggingface-hub>=0.15.1->sentence-transformers) (2.0.4)\n",
      "Requirement already satisfied: certifi>=2017.4.17 in /home/studio-lab-user/.conda/envs/default/lib/python3.9/site-packages (from requests->huggingface-hub>=0.15.1->sentence-transformers) (2023.7.22)\n",
      "Requirement already satisfied: idna<4,>=2.5 in /home/studio-lab-user/.conda/envs/default/lib/python3.9/site-packages (from requests->huggingface-hub>=0.15.1->sentence-transformers) (3.4)\n",
      "Requirement already satisfied: charset-normalizer<4,>=2 in /home/studio-lab-user/.conda/envs/default/lib/python3.9/site-packages (from requests->huggingface-hub>=0.15.1->sentence-transformers) (3.2.0)\n",
      "Requirement already satisfied: mpmath>=0.19 in /home/studio-lab-user/.conda/envs/default/lib/python3.9/site-packages (from sympy->torch>=1.11.0->sentence-transformers) (1.3.0)\n",
      "Note: you may need to restart the kernel to use updated packages.\n"
     ]
    }
   ],
   "source": [
    "pip install pandas sentence-transformers numpy scikit-learn seaborn matplotlib xgboost\n"
   ]
  },
  {
   "cell_type": "code",
   "execution_count": 2,
   "metadata": {
    "tags": []
   },
   "outputs": [],
   "source": [
    "from sklearn.linear_model import LogisticRegression\n",
    "from sklearn.utils.class_weight import compute_class_weight\n",
    "from sklearn.metrics import accuracy_score, recall_score, precision_score, f1_score, classification_report\n",
    "from sklearn import preprocessing\n",
    "from sentence_transformers import SentenceTransformer\n",
    "import numpy as np\n",
    "import pandas as pd\n",
    "from sklearn.metrics import confusion_matrix\n",
    "import seaborn as sns\n",
    "import matplotlib.pyplot as plt\n",
    "import seaborn as sn"
   ]
  },
  {
   "cell_type": "code",
   "execution_count": 3,
   "metadata": {
    "tags": []
   },
   "outputs": [],
   "source": [
    "train = pd.read_csv(\"transliteration_4000.csv\")\n",
    "test = pd.read_csv(\"transliteration_test.csv\",header=None)"
   ]
  },
  {
   "cell_type": "code",
   "execution_count": 4,
   "metadata": {
    "tags": []
   },
   "outputs": [],
   "source": [
    "# Extract column names from the first row\n",
    "columns = test.iloc[0].tolist()\n",
    "test = test[1:]  # Remove the first row containing column names\n",
    "test.columns = columns  # Set the correct column names\n",
    "\n",
    "# Separate the train sentences and labels into lists\n",
    "train_sentences = train['Comments'].tolist()\n",
    "train_labels = train['Label'].tolist()\n",
    "\n",
    "# Separate the test sentences and labels into lists\n",
    "test = test.dropna()  # Drop rows with missing values\n",
    "test_sentences = test['Comments'].tolist()\n",
    "test_labels = test['Label'].tolist()\n",
    "\n",
    "# Label encoding\n",
    "le = preprocessing.LabelEncoder()\n",
    "train_labels_encoded = le.fit_transform(train_labels)\n",
    "test_labels_encoded = le.transform(test_labels)  # Use transform instead of fit_transform"
   ]
  },
  {
   "cell_type": "markdown",
   "metadata": {},
   "source": [
    "# embeddings"
   ]
  },
  {
   "cell_type": "code",
   "execution_count": 5,
   "metadata": {
    "tags": []
   },
   "outputs": [
    {
     "data": {
      "application/vnd.jupyter.widget-view+json": {
       "model_id": "0a611e581dc34bba9cc9d750f1c21e65",
       "version_major": 2,
       "version_minor": 0
      },
      "text/plain": [
       "modules.json:   0%|          | 0.00/461 [00:00<?, ?B/s]"
      ]
     },
     "metadata": {},
     "output_type": "display_data"
    },
    {
     "data": {
      "application/vnd.jupyter.widget-view+json": {
       "model_id": "d548a9759d9d405ba871c488bf9d78b6",
       "version_major": 2,
       "version_minor": 0
      },
      "text/plain": [
       "config_sentence_transformers.json:   0%|          | 0.00/122 [00:00<?, ?B/s]"
      ]
     },
     "metadata": {},
     "output_type": "display_data"
    },
    {
     "data": {
      "application/vnd.jupyter.widget-view+json": {
       "model_id": "9687b9100ff84e98b191bdce3489ef50",
       "version_major": 2,
       "version_minor": 0
      },
      "text/plain": [
       "README.md:   0%|          | 0.00/2.22k [00:00<?, ?B/s]"
      ]
     },
     "metadata": {},
     "output_type": "display_data"
    },
    {
     "data": {
      "application/vnd.jupyter.widget-view+json": {
       "model_id": "b5363071ed704a51a6245b6fe7f2ebd7",
       "version_major": 2,
       "version_minor": 0
      },
      "text/plain": [
       "sentence_bert_config.json:   0%|          | 0.00/53.0 [00:00<?, ?B/s]"
      ]
     },
     "metadata": {},
     "output_type": "display_data"
    },
    {
     "data": {
      "application/vnd.jupyter.widget-view+json": {
       "model_id": "de382e1cde5c4ddaa146e55f1e69aff7",
       "version_major": 2,
       "version_minor": 0
      },
      "text/plain": [
       "config.json:   0%|          | 0.00/804 [00:00<?, ?B/s]"
      ]
     },
     "metadata": {},
     "output_type": "display_data"
    },
    {
     "data": {
      "application/vnd.jupyter.widget-view+json": {
       "model_id": "4b9a8c48ae224fbaa0fade6a46aec359",
       "version_major": 2,
       "version_minor": 0
      },
      "text/plain": [
       "pytorch_model.bin:   0%|          | 0.00/1.88G [00:00<?, ?B/s]"
      ]
     },
     "metadata": {},
     "output_type": "display_data"
    },
    {
     "data": {
      "application/vnd.jupyter.widget-view+json": {
       "model_id": "19ab7dcb4bee47c2b2d42e61b7ef2be5",
       "version_major": 2,
       "version_minor": 0
      },
      "text/plain": [
       "tokenizer_config.json:   0%|          | 0.00/397 [00:00<?, ?B/s]"
      ]
     },
     "metadata": {},
     "output_type": "display_data"
    },
    {
     "data": {
      "application/vnd.jupyter.widget-view+json": {
       "model_id": "6d946843794c47489b0d96719680fbdc",
       "version_major": 2,
       "version_minor": 0
      },
      "text/plain": [
       "vocab.txt:   0%|          | 0.00/5.22M [00:00<?, ?B/s]"
      ]
     },
     "metadata": {},
     "output_type": "display_data"
    },
    {
     "data": {
      "application/vnd.jupyter.widget-view+json": {
       "model_id": "d818fedcf0894aac990a04634a1010b6",
       "version_major": 2,
       "version_minor": 0
      },
      "text/plain": [
       "tokenizer.json:   0%|          | 0.00/9.62M [00:00<?, ?B/s]"
      ]
     },
     "metadata": {},
     "output_type": "display_data"
    },
    {
     "data": {
      "application/vnd.jupyter.widget-view+json": {
       "model_id": "968e32450bd5471ab97ede22f7905f9a",
       "version_major": 2,
       "version_minor": 0
      },
      "text/plain": [
       "special_tokens_map.json:   0%|          | 0.00/112 [00:00<?, ?B/s]"
      ]
     },
     "metadata": {},
     "output_type": "display_data"
    },
    {
     "data": {
      "application/vnd.jupyter.widget-view+json": {
       "model_id": "7a09bea134574785982990204ab9f51b",
       "version_major": 2,
       "version_minor": 0
      },
      "text/plain": [
       "1_Pooling/config.json:   0%|          | 0.00/190 [00:00<?, ?B/s]"
      ]
     },
     "metadata": {},
     "output_type": "display_data"
    },
    {
     "data": {
      "application/vnd.jupyter.widget-view+json": {
       "model_id": "ca99b218d5da461aa948b8db597493e6",
       "version_major": 2,
       "version_minor": 0
      },
      "text/plain": [
       "2_Dense/config.json:   0%|          | 0.00/114 [00:00<?, ?B/s]"
      ]
     },
     "metadata": {},
     "output_type": "display_data"
    },
    {
     "data": {
      "application/vnd.jupyter.widget-view+json": {
       "model_id": "602e877634d140bebb80d64bc208c6e3",
       "version_major": 2,
       "version_minor": 0
      },
      "text/plain": [
       "2_Dense/pytorch_model.bin:   0%|          | 0.00/2.36M [00:00<?, ?B/s]"
      ]
     },
     "metadata": {},
     "output_type": "display_data"
    }
   ],
   "source": [
    "trans_model = SentenceTransformer('LaBSE')\n",
    "train_embeddings = trans_model.encode(train_sentences)\n",
    "test_embeddings = trans_model.encode(test_sentences)"
   ]
  },
  {
   "cell_type": "markdown",
   "metadata": {},
   "source": [
    "### class weights"
   ]
  },
  {
   "cell_type": "code",
   "execution_count": 6,
   "metadata": {
    "tags": []
   },
   "outputs": [
    {
     "name": "stdout",
     "output_type": "stream",
     "text": [
      "Class weights:\n",
      "Class hate: 1.0314595152140278\n",
      "Class non-hate: 0.970402717127608\n"
     ]
    }
   ],
   "source": [
    "from sklearn.utils.class_weight import compute_class_weight\n",
    "\n",
    "# Compute class weights\n",
    "class_weights = compute_class_weight('balanced', classes=np.unique(train_labels), y=train_labels)\n",
    "\n",
    "\n",
    "print(\"Class weights:\")\n",
    "for label, weight in zip(np.unique(train_labels), class_weights):\n",
    "    print(f\"Class {label}: {weight}\")"
   ]
  },
  {
   "cell_type": "markdown",
   "metadata": {},
   "source": [
    "### logistic regression"
   ]
  },
  {
   "cell_type": "code",
   "execution_count": 7,
   "metadata": {
    "tags": []
   },
   "outputs": [
    {
     "name": "stdout",
     "output_type": "stream",
     "text": [
      "Evaluation scores:\n",
      "Accuracy: 0.586\n",
      "Precision: 0.5870149422868336\n",
      "Recall: 0.5860000000000001\n",
      "F1 Score: 0.5847892454397021\n",
      "Classification Report:\n",
      "              precision    recall  f1-score   support\n",
      "\n",
      "        hate       0.58      0.64      0.61       250\n",
      "    non-hate       0.60      0.53      0.56       250\n",
      "\n",
      "    accuracy                           0.59       500\n",
      "   macro avg       0.59      0.59      0.58       500\n",
      "weighted avg       0.59      0.59      0.58       500\n",
      "\n",
      "Predictions saved to 'Logistic_regression_predictions.csv'\n"
     ]
    }
   ],
   "source": [
    "from sklearn.linear_model import LogisticRegression\n",
    "# Train Logistic Regression model\n",
    "class_weight = {0: class_weights[0], 1: class_weights[1]}\n",
    "model = LogisticRegression(class_weight=class_weight, max_iter=1000)\n",
    "model.fit(train_embeddings, train_labels_encoded)\n",
    "\n",
    "# Make predictions for the entire test set\n",
    "test_predictions = model.predict(test_embeddings)\n",
    "\n",
    "# Evaluate the model\n",
    "accuracy = accuracy_score(test_labels_encoded, test_predictions)\n",
    "recall = recall_score(test_labels_encoded, test_predictions, average=\"macro\")\n",
    "precision = precision_score(test_labels_encoded, test_predictions, average=\"macro\")\n",
    "f1 = f1_score(test_labels_encoded, test_predictions, average=\"macro\")\n",
    "\n",
    "print(\"Evaluation scores:\")\n",
    "print(\"Accuracy:\", accuracy)\n",
    "print(\"Precision:\", precision)\n",
    "print(\"Recall:\", recall)\n",
    "print(\"F1 Score:\", f1)\n",
    "\n",
    "# Classification Report\n",
    "target_names = ['hate', 'non-hate']\n",
    "classification_rep = classification_report(test_labels_encoded, test_predictions, labels=np.unique(test_labels_encoded), target_names=target_names)\n",
    "print(\"Classification Report:\")\n",
    "print(classification_rep)\n",
    "\n",
    "# Save predictions to a CSV file\n",
    "predictions = list(le.inverse_transform(test_predictions))\n",
    "classified_df = pd.DataFrame({'tweets': test_sentences, 'actual_label': test_labels, 'predicted_label': predictions})\n",
    "classified_df.to_csv('Logistic_regression_predictions.csv', index=False)\n",
    "print(\"Predictions saved to 'Logistic_regression_predictions.csv'\")\n"
   ]
  },
  {
   "cell_type": "markdown",
   "metadata": {
    "tags": []
   },
   "source": [
    "### confusion matrix"
   ]
  },
  {
   "cell_type": "code",
   "execution_count": 8,
   "metadata": {
    "tags": []
   },
   "outputs": [
    {
     "data": {
      "image/png": "[encoded data removed]",
      "text/plain": [
       "<Figure size 700x500 with 2 Axes>"
      ]
     },
     "metadata": {},
     "output_type": "display_data"
    }
   ],
   "source": [
    "cfm = confusion_matrix(test_labels_encoded, test_predictions)\n",
    "classes = np.unique(test_labels_encoded)\n",
    "\n",
    "# Create DataFrame for confusion matrix\n",
    "df_cfm = pd.DataFrame(cfm, index=classes, columns=classes)\n",
    "\n",
    "# Plot confusion matrix\n",
    "plt.figure(figsize=(7, 5))\n",
    "cfm_plot = sns.heatmap(df_cfm, annot=True, fmt='g', cmap='Blues', xticklabels=target_names, yticklabels=target_names)\n",
    "plt.title('Confusion Matrix')\n",
    "plt.xlabel('Predicted')\n",
    "plt.ylabel('Actual')\n",
    "plt.show()"
   ]
  },
  {
   "cell_type": "markdown",
   "metadata": {},
   "source": [
    "### random forest"
   ]
  },
  {
   "cell_type": "code",
   "execution_count": 9,
   "metadata": {
    "tags": []
   },
   "outputs": [
    {
     "name": "stdout",
     "output_type": "stream",
     "text": [
      "Random Forest Evaluation scores:\n",
      "Accuracy: 0.61\n",
      "Precision: 0.6101427449975168\n",
      "Recall: 0.61\n",
      "F1 Score: 0.609873599046091\n",
      "Random Forest Classification Report:\n",
      "              precision    recall  f1-score   support\n",
      "\n",
      "        hate       0.61      0.63      0.62       250\n",
      "    non-hate       0.61      0.59      0.60       250\n",
      "\n",
      "    accuracy                           0.61       500\n",
      "   macro avg       0.61      0.61      0.61       500\n",
      "weighted avg       0.61      0.61      0.61       500\n",
      "\n",
      "Random Forest Predictions saved to 'RandomForest_predictions.csv'\n"
     ]
    }
   ],
   "source": [
    "from sklearn.ensemble import RandomForestClassifier\n",
    "\n",
    "# Train Random Forest model\n",
    "class_weight = {0: class_weights[0], 1: class_weights[1]}\n",
    "rf_model = RandomForestClassifier(class_weight=class_weight, n_estimators=100, random_state=42)\n",
    "rf_model.fit(train_embeddings, train_labels_encoded)\n",
    "\n",
    "# Make predictions for the entire test set\n",
    "rf_test_predictions = rf_model.predict(test_embeddings)\n",
    "\n",
    "# Evaluate the Random Forest model\n",
    "rf_accuracy = accuracy_score(test_labels_encoded, rf_test_predictions)\n",
    "rf_recall = recall_score(test_labels_encoded, rf_test_predictions, average=\"macro\")\n",
    "rf_precision = precision_score(test_labels_encoded, rf_test_predictions, average=\"macro\")\n",
    "rf_f1 = f1_score(test_labels_encoded, rf_test_predictions, average=\"macro\")\n",
    "\n",
    "print(\"Random Forest Evaluation scores:\")\n",
    "print(\"Accuracy:\", rf_accuracy)\n",
    "print(\"Precision:\", rf_precision)\n",
    "print(\"Recall:\", rf_recall)\n",
    "print(\"F1 Score:\", rf_f1)\n",
    "\n",
    "# Classification Report\n",
    "rf_classification_rep = classification_report(test_labels_encoded, rf_test_predictions, labels=np.unique(test_labels_encoded), target_names=target_names)\n",
    "print(\"Random Forest Classification Report:\")\n",
    "print(rf_classification_rep)\n",
    "\n",
    "# Save Random Forest predictions to a CSV file\n",
    "rf_predictions = list(le.inverse_transform(rf_test_predictions))\n",
    "rf_classified_df = pd.DataFrame({'tweets': test_sentences, 'actual_label': test_labels, 'predicted_label': rf_predictions})\n",
    "rf_classified_df.to_csv('RandomForest_predictions.csv', index=False)\n",
    "print(\"Random Forest Predictions saved to 'RandomForest_predictions.csv'\")\n"
   ]
  },
  {
   "cell_type": "markdown",
   "metadata": {},
   "source": [
    "### confusion matrix"
   ]
  },
  {
   "cell_type": "code",
   "execution_count": 10,
   "metadata": {
    "tags": []
   },
   "outputs": [
    {
     "data": {
      "image/png": "[encoded data removed]",
      "text/plain": [
       "<Figure size 700x500 with 2 Axes>"
      ]
     },
     "metadata": {},
     "output_type": "display_data"
    }
   ],
   "source": [
    "# Confusion Matrix for Random Forest\n",
    "rf_cfm = confusion_matrix(test_labels_encoded, rf_test_predictions)\n",
    "rf_classes = np.unique(test_labels_encoded)\n",
    "\n",
    "rf_df_cfm = pd.DataFrame(rf_cfm, index=rf_classes, columns=rf_classes)\n",
    "plt.figure(figsize=(7, 5))\n",
    "rf_cfm_plot = sns.heatmap(rf_df_cfm, annot=True, fmt='g', cmap='Blues', xticklabels=target_names, yticklabels=target_names)\n",
    "plt.title(\"Random Forest Confusion Matrix\")\n",
    "plt.xlabel(\"Predicted\")\n",
    "plt.ylabel(\"Actual\")\n",
    "plt.show()"
   ]
  },
  {
   "cell_type": "markdown",
   "metadata": {},
   "source": [
    "### XGBOOST"
   ]
  },
  {
   "cell_type": "code",
   "execution_count": 11,
   "metadata": {
    "tags": []
   },
   "outputs": [
    {
     "name": "stdout",
     "output_type": "stream",
     "text": [
      "XGBoost Evaluation scores:\n",
      "Accuracy: 0.612\n",
      "Precision: 0.6122586439155815\n",
      "Recall: 0.612\n",
      "F1 Score: 0.6117763831967213\n",
      "XGBoost Classification Report:\n",
      "              precision    recall  f1-score   support\n",
      "\n",
      "        hate       0.61      0.64      0.62       250\n",
      "    non-hate       0.62      0.59      0.60       250\n",
      "\n",
      "    accuracy                           0.61       500\n",
      "   macro avg       0.61      0.61      0.61       500\n",
      "weighted avg       0.61      0.61      0.61       500\n",
      "\n",
      "XGBoost Predictions saved to 'XGBoost_predictions.csv'\n"
     ]
    }
   ],
   "source": [
    "from xgboost import XGBClassifier\n",
    "\n",
    "# Train XGBoost model\n",
    "xgb_model = XGBClassifier(scale_pos_weight=class_weights[1]/class_weights[0], random_state=42)\n",
    "xgb_model.fit(train_embeddings, train_labels_encoded)\n",
    "\n",
    "# Make predictions for the entire test set\n",
    "xgb_test_predictions = xgb_model.predict(test_embeddings)\n",
    "\n",
    "# Evaluate the XGBoost model\n",
    "xgb_accuracy = accuracy_score(test_labels_encoded, xgb_test_predictions)\n",
    "xgb_recall = recall_score(test_labels_encoded, xgb_test_predictions, average=\"macro\")\n",
    "xgb_precision = precision_score(test_labels_encoded, xgb_test_predictions, average=\"macro\")\n",
    "xgb_f1 = f1_score(test_labels_encoded, xgb_test_predictions, average=\"macro\")\n",
    "\n",
    "print(\"XGBoost Evaluation scores:\")\n",
    "print(\"Accuracy:\", xgb_accuracy)\n",
    "print(\"Precision:\", xgb_precision)\n",
    "print(\"Recall:\", xgb_recall)\n",
    "print(\"F1 Score:\", xgb_f1)\n",
    "\n",
    "# Classification Report for XGBoost\n",
    "xgb_target_names = ['hate', 'non-hate']\n",
    "xgb_classification_rep = classification_report(test_labels_encoded, xgb_test_predictions, labels=np.unique(test_labels_encoded), target_names=xgb_target_names)\n",
    "print(\"XGBoost Classification Report:\")\n",
    "print(xgb_classification_rep)\n",
    "\n",
    "# Save XGBoost predictions to a CSV file\n",
    "xgb_predictions = list(le.inverse_transform(xgb_test_predictions))\n",
    "xgb_classified_df = pd.DataFrame({'tweets': test_sentences, 'actual_label': test_labels, 'predicted_label': xgb_predictions})\n",
    "xgb_classified_df.to_csv('XGBoost_predictions.csv', index=False)\n",
    "print(\"XGBoost Predictions saved to 'XGBoost_predictions.csv'\")\n"
   ]
  },
  {
   "cell_type": "markdown",
   "metadata": {},
   "source": [
    "### confusion matrix"
   ]
  },
  {
   "cell_type": "code",
   "execution_count": 12,
   "metadata": {
    "tags": []
   },
   "outputs": [
    {
     "data": {
      "image/png": "[encoded data removed]",
      "text/plain": [
       "<Figure size 700x500 with 2 Axes>"
      ]
     },
     "metadata": {},
     "output_type": "display_data"
    }
   ],
   "source": [
    "# Confusion Matrix for XGBoost\n",
    "xgb_cfm = confusion_matrix(test_labels_encoded, xgb_test_predictions)\n",
    "xgb_classes = np.unique(test_labels_encoded)\n",
    "\n",
    "xgb_df_cfm = pd.DataFrame(xgb_cfm, index=xgb_classes, columns=xgb_classes)\n",
    "plt.figure(figsize=(7, 5))\n",
    "xgb_cfm_plot = sn.heatmap(xgb_df_cfm, annot=True, fmt='g', cmap='Blues', xticklabels=target_names, yticklabels=target_names)\n",
    "plt.title(\"XGBoost Confusion Matrix\")\n",
    "plt.xlabel(\"Predicted\")\n",
    "plt.ylabel(\"Actual\")\n",
    "plt.show()"
   ]
  },
  {
   "cell_type": "markdown",
   "metadata": {},
   "source": [
    "### SVM"
   ]
  },
  {
   "cell_type": "code",
   "execution_count": 13,
   "metadata": {
    "tags": []
   },
   "outputs": [
    {
     "name": "stdout",
     "output_type": "stream",
     "text": [
      "SVM Evaluation scores:\n",
      "Accuracy: 0.592\n",
      "Precision: 0.5939481079667995\n",
      "Recall: 0.5920000000000001\n",
      "F1 Score: 0.5898739063304168\n",
      "SVM Classification Report:\n",
      "              precision    recall  f1-score   support\n",
      "\n",
      "        hate       0.58      0.66      0.62       250\n",
      "    non-hate       0.61      0.52      0.56       250\n",
      "\n",
      "    accuracy                           0.59       500\n",
      "   macro avg       0.59      0.59      0.59       500\n",
      "weighted avg       0.59      0.59      0.59       500\n",
      "\n",
      "SVM Predictions saved to 'SVM_predictions.csv'\n"
     ]
    }
   ],
   "source": [
    "from sklearn.svm import SVC\n",
    "\n",
    "# Train SVM model\n",
    "svm_model = SVC(class_weight=class_weight, random_state=42)\n",
    "svm_model.fit(train_embeddings, train_labels_encoded)\n",
    "\n",
    "# Make predictions for the entire test set\n",
    "svm_test_predictions = svm_model.predict(test_embeddings)\n",
    "\n",
    "# Evaluate the SVM model\n",
    "svm_accuracy = accuracy_score(test_labels_encoded, svm_test_predictions)\n",
    "svm_recall = recall_score(test_labels_encoded, svm_test_predictions, average=\"macro\")\n",
    "svm_precision = precision_score(test_labels_encoded, svm_test_predictions, average=\"macro\")\n",
    "svm_f1 = f1_score(test_labels_encoded, svm_test_predictions, average=\"macro\")\n",
    "\n",
    "print(\"SVM Evaluation scores:\")\n",
    "print(\"Accuracy:\", svm_accuracy)\n",
    "print(\"Precision:\", svm_precision)\n",
    "print(\"Recall:\", svm_recall)\n",
    "print(\"F1 Score:\", svm_f1)\n",
    "\n",
    "# Classification Report for SVM\n",
    "svm_target_names = ['hate', 'non-hate']\n",
    "svm_classification_rep = classification_report(test_labels_encoded, svm_test_predictions, labels=np.unique(test_labels_encoded), target_names=svm_target_names)\n",
    "print(\"SVM Classification Report:\")\n",
    "print(svm_classification_rep)\n",
    "\n",
    "# Save SVM predictions to a CSV file\n",
    "svm_predictions = list(le.inverse_transform(svm_test_predictions))\n",
    "svm_classified_df = pd.DataFrame({'tweets': test_sentences, 'actual_label': test_labels, 'predicted_label': svm_predictions})\n",
    "svm_classified_df.to_csv('SVM_predictions.csv', index=False)\n",
    "print(\"SVM Predictions saved to 'SVM_predictions.csv'\")\n"
   ]
  },
  {
   "cell_type": "markdown",
   "metadata": {},
   "source": [
    "### confusion matrix"
   ]
  },
  {
   "cell_type": "code",
   "execution_count": 14,
   "metadata": {
    "tags": []
   },
   "outputs": [
    {
     "data": {
      "image/png": "[encoded data removed]",
      "text/plain": [
       "<Figure size 700x500 with 2 Axes>"
      ]
     },
     "metadata": {},
     "output_type": "display_data"
    }
   ],
   "source": [
    "# Calculate the confusion matrix\n",
    "svm_cfm = confusion_matrix(test_labels_encoded, svm_test_predictions)\n",
    "classes = np.unique(test_labels_encoded)\n",
    "\n",
    "# Create a DataFrame for the confusion matrix\n",
    "df_svm_cfm = pd.DataFrame(svm_cfm, index=classes, columns=classes)\n",
    "\n",
    "# Plot the confusion matrix\n",
    "plt.figure(figsize=(7, 5))\n",
    "svm_cfm_plot = sn.heatmap(df_svm_cfm, annot=True, fmt='g', cmap='Blues', xticklabels=target_names, yticklabels=target_names)\n",
    "plt.title(\"SVM Confusion Matrix\")\n",
    "plt.xlabel(\"Predicted Labels\")\n",
    "plt.ylabel(\"True Labels\")\n",
    "plt.show()"
   ]
  },
  {
   "cell_type": "markdown",
   "metadata": {},
   "source": [
    "### KNN"
   ]
  },
  {
   "cell_type": "code",
   "execution_count": 15,
   "metadata": {
    "tags": []
   },
   "outputs": [
    {
     "name": "stderr",
     "output_type": "stream",
     "text": [
      "huggingface/tokenizers: The current process just got forked, after parallelism has already been used. Disabling parallelism to avoid deadlocks...\n",
      "To disable this warning, you can either:\n",
      "\t- Avoid using `tokenizers` before the fork if possible\n",
      "\t- Explicitly set the environment variable TOKENIZERS_PARALLELISM=(true | false)\n",
      "huggingface/tokenizers: The current process just got forked, after parallelism has already been used. Disabling parallelism to avoid deadlocks...\n",
      "To disable this warning, you can either:\n",
      "\t- Avoid using `tokenizers` before the fork if possible\n",
      "\t- Explicitly set the environment variable TOKENIZERS_PARALLELISM=(true | false)\n"
     ]
    },
    {
     "name": "stdout",
     "output_type": "stream",
     "text": [
      "KNN Evaluation scores:\n",
      "Accuracy: 0.578\n",
      "Precision: 0.5782818145323163\n",
      "Recall: 0.5780000000000001\n",
      "F1 Score: 0.5776198578720848\n",
      "KNN Classification Report:\n",
      "              precision    recall  f1-score   support\n",
      "\n",
      "        hate       0.57      0.61      0.59       250\n",
      "    non-hate       0.58      0.55      0.56       250\n",
      "\n",
      "    accuracy                           0.58       500\n",
      "   macro avg       0.58      0.58      0.58       500\n",
      "weighted avg       0.58      0.58      0.58       500\n",
      "\n",
      "KNN Predictions saved to 'KNN_predictions.csv'\n"
     ]
    }
   ],
   "source": [
    "from sklearn.neighbors import KNeighborsClassifier\n",
    "\n",
    "# Train KNN model\n",
    "knn_model = KNeighborsClassifier()\n",
    "knn_model.fit(train_embeddings, train_labels_encoded)\n",
    "\n",
    "# Make predictions for the entire test set\n",
    "knn_test_predictions = knn_model.predict(test_embeddings)\n",
    "\n",
    "# Evaluate the KNN model\n",
    "knn_accuracy = accuracy_score(test_labels_encoded, knn_test_predictions)\n",
    "knn_recall = recall_score(test_labels_encoded, knn_test_predictions, average=\"macro\")\n",
    "knn_precision = precision_score(test_labels_encoded, knn_test_predictions, average=\"macro\")\n",
    "knn_f1 = f1_score(test_labels_encoded, knn_test_predictions, average=\"macro\")\n",
    "\n",
    "print(\"KNN Evaluation scores:\")\n",
    "print(\"Accuracy:\", knn_accuracy)\n",
    "print(\"Precision:\", knn_precision)\n",
    "print(\"Recall:\", knn_recall)\n",
    "print(\"F1 Score:\", knn_f1)\n",
    "\n",
    "# Classification Report for KNN\n",
    "knn_target_names = ['hate', 'non-hate']\n",
    "knn_classification_rep = classification_report(test_labels_encoded, knn_test_predictions, labels=np.unique(test_labels_encoded), target_names=knn_target_names)\n",
    "print(\"KNN Classification Report:\")\n",
    "print(knn_classification_rep)\n",
    "\n",
    "# Save KNN predictions to a CSV file\n",
    "knn_predictions = list(le.inverse_transform(knn_test_predictions))\n",
    "knn_classified_df = pd.DataFrame({'tweets': test_sentences, 'actual_label': test_labels, 'predicted_label': knn_predictions})\n",
    "knn_classified_df.to_csv('KNN_predictions.csv', index=False)\n",
    "print(\"KNN Predictions saved to 'KNN_predictions.csv'\")\n"
   ]
  },
  {
   "cell_type": "markdown",
   "metadata": {},
   "source": [
    "### confusion matrix"
   ]
  },
  {
   "cell_type": "code",
   "execution_count": 16,
   "metadata": {
    "tags": []
   },
   "outputs": [
    {
     "data": {
      "image/png": "[encoded data removed]",
      "text/plain": [
       "<Figure size 700x500 with 2 Axes>"
      ]
     },
     "metadata": {},
     "output_type": "display_data"
    }
   ],
   "source": [
    "# Generate confusion matrix for KNN\n",
    "knn_cfm = confusion_matrix(test_labels_encoded, knn_test_predictions)\n",
    "knn_classes = np.unique(test_labels_encoded)\n",
    "\n",
    "# Create a DataFrame for confusion matrix\n",
    "knn_df_cfm = pd.DataFrame(knn_cfm, index=knn_classes, columns=knn_classes)\n",
    "\n",
    "# Plot the confusion matrix\n",
    "plt.figure(figsize=(7, 5))\n",
    "knn_cfm_plot = sn.heatmap(knn_df_cfm, annot=True, fmt='g', cmap='Blues', xticklabels=target_names, yticklabels=target_names)\n",
    "plt.title('KNN Confusion Matrix')\n",
    "plt.xlabel('Predicted Label')\n",
    "plt.ylabel('Actual Label')\n",
    "plt.show()"
   ]
  },
  {
   "cell_type": "markdown",
   "metadata": {},
   "source": [
    "### Decision tree"
   ]
  },
  {
   "cell_type": "code",
   "execution_count": 17,
   "metadata": {
    "tags": []
   },
   "outputs": [
    {
     "name": "stdout",
     "output_type": "stream",
     "text": [
      "Decision Tree Evaluation scores:\n",
      "Accuracy: 0.528\n",
      "Precision: 0.5280448717948718\n",
      "Recall: 0.528\n",
      "F1 Score: 0.5278111244497798\n",
      "Decision Tree Classification Report:\n",
      "              precision    recall  f1-score   support\n",
      "\n",
      "        hate       0.53      0.51      0.52       250\n",
      "    non-hate       0.53      0.55      0.54       250\n",
      "\n",
      "    accuracy                           0.53       500\n",
      "   macro avg       0.53      0.53      0.53       500\n",
      "weighted avg       0.53      0.53      0.53       500\n",
      "\n",
      "Decision Tree Predictions saved to 'DecisionTree_predictions.csv'\n"
     ]
    }
   ],
   "source": [
    "from sklearn.tree import DecisionTreeClassifier\n",
    "\n",
    "# Train Decision Tree model\n",
    "dt_model = DecisionTreeClassifier(class_weight=class_weight, random_state=42)\n",
    "dt_model.fit(train_embeddings, train_labels_encoded)\n",
    "\n",
    "# Make predictions for the entire test set\n",
    "dt_test_predictions = dt_model.predict(test_embeddings)\n",
    "\n",
    "# Evaluate the Decision Tree model\n",
    "dt_accuracy = accuracy_score(test_labels_encoded, dt_test_predictions)\n",
    "dt_recall = recall_score(test_labels_encoded, dt_test_predictions, average=\"macro\")\n",
    "dt_precision = precision_score(test_labels_encoded, dt_test_predictions, average=\"macro\")\n",
    "dt_f1 = f1_score(test_labels_encoded, dt_test_predictions, average=\"macro\")\n",
    "\n",
    "print(\"Decision Tree Evaluation scores:\")\n",
    "print(\"Accuracy:\", dt_accuracy)\n",
    "print(\"Precision:\", dt_precision)\n",
    "print(\"Recall:\", dt_recall)\n",
    "print(\"F1 Score:\", dt_f1)\n",
    "\n",
    "# Classification Report for Decision Tree\n",
    "dt_target_names = ['hate', 'non-hate']\n",
    "dt_classification_rep = classification_report(test_labels_encoded, dt_test_predictions, labels=np.unique(test_labels_encoded), target_names=dt_target_names)\n",
    "print(\"Decision Tree Classification Report:\")\n",
    "print(dt_classification_rep)\n",
    "\n",
    "# Save Decision Tree predictions to a CSV file\n",
    "dt_predictions = list(le.inverse_transform(dt_test_predictions))\n",
    "dt_classified_df = pd.DataFrame({'tweets': test_sentences, 'actual_label': test_labels, 'predicted_label': dt_predictions})\n",
    "dt_classified_df.to_csv('DecisionTree_predictions.csv', index=False)\n",
    "print(\"Decision Tree Predictions saved to 'DecisionTree_predictions.csv'\")\n"
   ]
  },
  {
   "cell_type": "markdown",
   "metadata": {},
   "source": [
    "### confusion matrix"
   ]
  },
  {
   "cell_type": "code",
   "execution_count": 18,
   "metadata": {
    "tags": []
   },
   "outputs": [
    {
     "data": {
      "image/png": "[encoded data removed]",
      "text/plain": [
       "<Figure size 700x500 with 2 Axes>"
      ]
     },
     "metadata": {},
     "output_type": "display_data"
    }
   ],
   "source": [
    "# Confusion matrix for Decision Tree\n",
    "dt_cfm = confusion_matrix(test_labels_encoded, dt_test_predictions)\n",
    "dt_classes = np.unique(train_labels_encoded)\n",
    "\n",
    "# Create a DataFrame for the confusion matrix\n",
    "dt_df_cfm = pd.DataFrame(dt_cfm, index=dt_classes, columns=dt_classes)\n",
    "\n",
    "# Plot the confusion matrix\n",
    "plt.figure(figsize=(7, 5))\n",
    "dt_cfm_plot = sn.heatmap(dt_df_cfm, annot=True, fmt='g', cmap='Blues', xticklabels=target_names, yticklabels=target_names)\n",
    "plt.title(\"Decision Tree Confusion Matrix\")\n",
    "plt.xlabel(\"Predicted\")\n",
    "plt.ylabel(\"Actual\")\n",
    "plt.show()"
   ]
  },
  {
   "cell_type": "markdown",
   "metadata": {},
   "source": [
    "### Ada boost"
   ]
  },
  {
   "cell_type": "code",
   "execution_count": 19,
   "metadata": {
    "tags": []
   },
   "outputs": [
    {
     "name": "stderr",
     "output_type": "stream",
     "text": [
      "/home/studio-lab-user/.conda/envs/default/lib/python3.9/site-packages/sklearn/ensemble/_weight_boosting.py:519: FutureWarning: The SAMME.R algorithm (the default) is deprecated and will be removed in 1.6. Use the SAMME algorithm to circumvent this warning.\n",
      "  warnings.warn(\n"
     ]
    },
    {
     "name": "stdout",
     "output_type": "stream",
     "text": [
      "AdaBoost Evaluation scores:\n",
      "Accuracy: 0.582\n",
      "Precision: 0.5824763835916252\n",
      "Recall: 0.5820000000000001\n",
      "F1 Score: 0.5813955351527607\n",
      "AdaBoost Classification Report:\n",
      "              precision    recall  f1-score   support\n",
      "\n",
      "        hate       0.58      0.62      0.60       250\n",
      "    non-hate       0.59      0.54      0.57       250\n",
      "\n",
      "    accuracy                           0.58       500\n",
      "   macro avg       0.58      0.58      0.58       500\n",
      "weighted avg       0.58      0.58      0.58       500\n",
      "\n",
      "AdaBoost Predictions saved to 'AdaBoost_predictions.csv'\n"
     ]
    }
   ],
   "source": [
    "from sklearn.ensemble import AdaBoostClassifier\n",
    "\n",
    "# Train AdaBoost model\n",
    "adaboost_model = AdaBoostClassifier(n_estimators=50, random_state=42)\n",
    "adaboost_model.fit(train_embeddings, train_labels_encoded)\n",
    "\n",
    "# Make predictions for the entire test set\n",
    "adaboost_test_predictions = adaboost_model.predict(test_embeddings)\n",
    "\n",
    "# Evaluate the AdaBoost model\n",
    "adaboost_accuracy = accuracy_score(test_labels_encoded, adaboost_test_predictions)\n",
    "adaboost_recall = recall_score(test_labels_encoded, adaboost_test_predictions, average=\"macro\")\n",
    "adaboost_precision = precision_score(test_labels_encoded, adaboost_test_predictions, average=\"macro\")\n",
    "adaboost_f1 = f1_score(test_labels_encoded, adaboost_test_predictions, average=\"macro\")\n",
    "\n",
    "print(\"AdaBoost Evaluation scores:\")\n",
    "print(\"Accuracy:\", adaboost_accuracy)\n",
    "print(\"Precision:\", adaboost_precision)\n",
    "print(\"Recall:\", adaboost_recall)\n",
    "print(\"F1 Score:\", adaboost_f1)\n",
    "\n",
    "# Classification Report for AdaBoost\n",
    "adaboost_target_names = ['hate', 'non-hate']\n",
    "adaboost_classification_rep = classification_report(test_labels_encoded, adaboost_test_predictions, labels=np.unique(test_labels_encoded), target_names=adaboost_target_names)\n",
    "print(\"AdaBoost Classification Report:\")\n",
    "print(adaboost_classification_rep)\n",
    "\n",
    "# Save AdaBoost predictions to a CSV file\n",
    "adaboost_predictions = list(le.inverse_transform(adaboost_test_predictions))\n",
    "adaboost_classified_df = pd.DataFrame({'tweets': test_sentences, 'actual_label': test_labels, 'predicted_label': adaboost_predictions})\n",
    "adaboost_classified_df.to_csv('AdaBoost_predictions.csv', index=False)\n",
    "print(\"AdaBoost Predictions saved to 'AdaBoost_predictions.csv'\")\n"
   ]
  },
  {
   "cell_type": "markdown",
   "metadata": {},
   "source": [
    "### confusion matrix"
   ]
  },
  {
   "cell_type": "code",
   "execution_count": 20,
   "metadata": {
    "tags": []
   },
   "outputs": [
    {
     "data": {
      "image/png": "[encoded data removed]",
      "text/plain": [
       "<Figure size 700x500 with 2 Axes>"
      ]
     },
     "metadata": {},
     "output_type": "display_data"
    }
   ],
   "source": [
    "# Generate confusion matrix for AdaBoost\n",
    "adaboost_cfm = confusion_matrix(test_labels_encoded, adaboost_test_predictions)\n",
    "adaboost_classes = np.unique(test_labels_encoded)\n",
    "\n",
    "# Create a DataFrame for the confusion matrix\n",
    "adaboost_df_cfm = pd.DataFrame(adaboost_cfm, index=adaboost_classes, columns=adaboost_classes)\n",
    "\n",
    "# Plot the confusion matrix\n",
    "plt.figure(figsize=(7, 5))\n",
    "adaboost_cfm_plot = sn.heatmap(adaboost_df_cfm, annot=True, fmt='g', cmap='Blues', xticklabels=target_names, yticklabels=target_names)\n",
    "plt.title(\"AdaBoost Confusion Matrix\")\n",
    "plt.xlabel(\"Predicted Label\")\n",
    "plt.ylabel(\"Actual Label\")\n",
    "plt.show()"
   ]
  },
  {
   "cell_type": "markdown",
   "metadata": {},
   "source": [
    "### Naive bayes"
   ]
  },
  {
   "cell_type": "code",
   "execution_count": 21,
   "metadata": {
    "tags": []
   },
   "outputs": [
    {
     "name": "stdout",
     "output_type": "stream",
     "text": [
      "Naive Bayes Evaluation scores:\n",
      "Accuracy: 0.464\n",
      "Precision: 0.4639907816400999\n",
      "Recall: 0.46399999999999997\n",
      "F1 Score: 0.46396569380440345\n",
      "Naive Bayes Classification Report:\n",
      "              precision    recall  f1-score   support\n",
      "\n",
      "        hate       0.46      0.47      0.47       250\n",
      "    non-hate       0.46      0.46      0.46       250\n",
      "\n",
      "    accuracy                           0.46       500\n",
      "   macro avg       0.46      0.46      0.46       500\n",
      "weighted avg       0.46      0.46      0.46       500\n",
      "\n",
      "Naive Bayes Predictions saved to 'NaiveBayes_predictions.csv'\n"
     ]
    }
   ],
   "source": [
    "from sklearn.naive_bayes import GaussianNB\n",
    "\n",
    "# Train Naive Bayes model\n",
    "nb_model = GaussianNB()\n",
    "nb_model.fit(train_embeddings, train_labels_encoded)\n",
    "\n",
    "# Make predictions for the entire test set\n",
    "nb_test_predictions = nb_model.predict(test_embeddings)\n",
    "\n",
    "# Evaluate the Naive Bayes model\n",
    "nb_accuracy = accuracy_score(test_labels_encoded, nb_test_predictions)\n",
    "nb_recall = recall_score(test_labels_encoded, nb_test_predictions, average=\"macro\")\n",
    "nb_precision = precision_score(test_labels_encoded, nb_test_predictions, average=\"macro\")\n",
    "nb_f1 = f1_score(test_labels_encoded, nb_test_predictions, average=\"macro\")\n",
    "\n",
    "print(\"Naive Bayes Evaluation scores:\")\n",
    "print(\"Accuracy:\", nb_accuracy)\n",
    "print(\"Precision:\", nb_precision)\n",
    "print(\"Recall:\", nb_recall)\n",
    "print(\"F1 Score:\", nb_f1)\n",
    "\n",
    "# Classification Report for Naive Bayes\n",
    "nb_target_names = ['hate', 'non-hate']\n",
    "nb_classification_rep = classification_report(test_labels_encoded, nb_test_predictions, labels=np.unique(test_labels_encoded), target_names=nb_target_names)\n",
    "print(\"Naive Bayes Classification Report:\")\n",
    "print(nb_classification_rep)\n",
    "\n",
    "# Save Naive Bayes predictions to a CSV file\n",
    "nb_predictions = list(le.inverse_transform(nb_test_predictions))\n",
    "nb_classified_df = pd.DataFrame({'tweets': test_sentences, 'actual_label': test_labels, 'predicted_label': nb_predictions})\n",
    "nb_classified_df.to_csv('NaiveBayes_predictions.csv', index=False)\n",
    "print(\"Naive Bayes Predictions saved to 'NaiveBayes_predictions.csv'\")\n"
   ]
  },
  {
   "cell_type": "markdown",
   "metadata": {},
   "source": [
    "### confusion matrix"
   ]
  },
  {
   "cell_type": "code",
   "execution_count": 22,
   "metadata": {
    "tags": []
   },
   "outputs": [
    {
     "data": {
      "image/png": "[encoded data removed]",
      "text/plain": [
       "<Figure size 700x500 with 2 Axes>"
      ]
     },
     "metadata": {},
     "output_type": "display_data"
    }
   ],
   "source": [
    "# Confusion Matrix for Naive Bayes\n",
    "nb_cfm = confusion_matrix(test_labels_encoded, nb_test_predictions)\n",
    "nb_classes = np.unique(train_labels_encoded)\n",
    "\n",
    "# Create a DataFrame for the Confusion Matrix\n",
    "nb_df_cfm = pd.DataFrame(nb_cfm, index=nb_classes, columns=nb_classes)\n",
    "\n",
    "# Plot the Confusion Matrix\n",
    "plt.figure(figsize=(7, 5))\n",
    "nb_cfm_plot = sn.heatmap(nb_df_cfm, annot=True, fmt='g', cmap='Blues', xticklabels=target_names, yticklabels=target_names)\n",
    "plt.title('Naive Bayes Confusion Matrix')\n",
    "plt.xlabel('Predicted Labels')\n",
    "plt.ylabel('Actual Labels')\n",
    "plt.show()"
   ]
  },
  {
   "cell_type": "markdown",
   "metadata": {},
   "source": [
    "### svm rbf"
   ]
  },
  {
   "cell_type": "code",
   "execution_count": 23,
   "metadata": {
    "tags": []
   },
   "outputs": [
    {
     "name": "stdout",
     "output_type": "stream",
     "text": [
      "SVM Evaluation scores:\n",
      "Accuracy: 0.558\n",
      "Precision: 0.5581125058112506\n",
      "Recall: 0.558\n",
      "F1 Score: 0.5577859684087099\n",
      "SVM Classification Report:\n",
      "              precision    recall  f1-score   support\n",
      "\n",
      "        hate       0.56      0.58      0.57       250\n",
      "    non-hate       0.56      0.54      0.55       250\n",
      "\n",
      "    accuracy                           0.56       500\n",
      "   macro avg       0.56      0.56      0.56       500\n",
      "weighted avg       0.56      0.56      0.56       500\n",
      "\n",
      "SVM Predictions saved to 'SVM_linear_predictions.csv'\n"
     ]
    }
   ],
   "source": [
    "from sklearn.svm import SVC\n",
    "\n",
    "# Train SVM model\n",
    "svm_model = SVC(kernel='linear', class_weight=class_weight, random_state=42)\n",
    "svm_model.fit(train_embeddings, train_labels_encoded)\n",
    "\n",
    "# Make predictions for the entire test set\n",
    "svm_test_predictions = svm_model.predict(test_embeddings)\n",
    "\n",
    "# Evaluate the SVM model\n",
    "svm_accuracy = accuracy_score(test_labels_encoded, svm_test_predictions)\n",
    "svm_recall = recall_score(test_labels_encoded, svm_test_predictions, average=\"macro\")\n",
    "svm_precision = precision_score(test_labels_encoded, svm_test_predictions, average=\"macro\")\n",
    "svm_f1 = f1_score(test_labels_encoded, svm_test_predictions, average=\"macro\")\n",
    "\n",
    "print(\"SVM Evaluation scores:\")\n",
    "print(\"Accuracy:\", svm_accuracy)\n",
    "print(\"Precision:\", svm_precision)\n",
    "print(\"Recall:\", svm_recall)\n",
    "print(\"F1 Score:\", svm_f1)\n",
    "\n",
    "# Classification Report for SVM\n",
    "svm_target_names = ['hate', 'non-hate']\n",
    "svm_classification_rep = classification_report(test_labels_encoded, svm_test_predictions, labels=np.unique(test_labels_encoded), target_names=svm_target_names)\n",
    "print(\"SVM Classification Report:\")\n",
    "print(svm_classification_rep)\n",
    "\n",
    "# Save SVM predictions to a CSV file\n",
    "svm_predictions = list(le.inverse_transform(svm_test_predictions))\n",
    "svm_classified_df = pd.DataFrame({'tweets': test_sentences, 'actual_label': test_labels, 'predicted_label': svm_predictions})\n",
    "svm_classified_df.to_csv('SVM_linear_predictions.csv', index=False)\n",
    "print(\"SVM Predictions saved to 'SVM_linear_predictions.csv'\")\n"
   ]
  },
  {
   "cell_type": "code",
   "execution_count": null,
   "metadata": {},
   "outputs": [],
   "source": []
  },
  {
   "cell_type": "code",
   "execution_count": null,
   "metadata": {},
   "outputs": [],
   "source": []
  }
 ],
 "metadata": {
  "kernelspec": {
   "display_name": "default:Python",
   "language": "python",
   "name": "conda-env-default-py"
  },
  "language_info": {
   "codemirror_mode": {
    "name": "ipython",
    "version": 3
   },
   "file_extension": ".py",
   "mimetype": "text/x-python",
   "name": "python",
   "nbconvert_exporter": "python",
   "pygments_lexer": "ipython3",
   "version": "3.9.16"
  }
 },
 "nbformat": 4,
 "nbformat_minor": 4
}
